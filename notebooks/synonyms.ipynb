{
 "cells": [
  {
   "cell_type": "code",
   "execution_count": 5,
   "metadata": {},
   "outputs": [],
   "source": [
    "import os\n",
    "from azure.core.credentials import AzureKeyCredential\n",
    "from dotenv import load_dotenv\n",
    "import json\n",
    "\n",
    "import sys\n",
    "sys.path.append('../app/backend')\n",
    "\n",
    "with open('../.azure/config.json', 'r') as config_file:\n",
    "    config_data = json.load(config_file)\n",
    "dotenv_path = f'../.azure/{config_data[\"defaultEnvironment\"]}/.env'\n",
    "load_dotenv(dotenv_path) # Load environment variables from .env file\n",
    "\n",
    "# Replace these with your own values, either in environment variables or directly here\n",
    "AZURE_SEARCH_INDEX = os.environ.get(\"AZURE_SEARCH_INDEX\") \n",
    "\n",
    "# Set up clients for Cognitive Search and Storage\n",
    "admin_key = os.environ.get(\"AZURE_COGNITIVE_SEARCH_KEY\")\n",
    "\n",
    "from azure.identity import DefaultAzureCredential\n",
    "from azure.search.documents import SearchClient\n",
    "from azure.search.documents.indexes.models import SynonymMap\n",
    "\n",
    "# Authenticate to your Azure service\n",
    "credential = DefaultAzureCredential()\n",
    "search_client = SearchClient(\n",
    "    endpoint= os.environ.get(\"AZURE_COGNITIVE_SEARCH_ENDPOINT\"),\n",
    "    index_name=AZURE_SEARCH_INDEX,\n",
    "    credential=AzureKeyCredential(admin_key))"
   ]
  },
  {
   "cell_type": "code",
   "execution_count": 8,
   "metadata": {},
   "outputs": [],
   "source": [
    "# Define multiple synonym entries\n",
    "list_synonyms = [\n",
    "    SynonymMap(name=\"parentalcontrol\", synonyms=[\"parental control\", \"child lock\"])\n",
    "]"
   ]
  },
  {
   "cell_type": "code",
   "execution_count": 9,
   "metadata": {},
   "outputs": [],
   "source": [
    "\n",
    "def create_synonym_map(synonyms):\n",
    "    # [START create_synonym_map]\n",
    "    synonym_map = SynonymMap(name=\"test-syn-map\", synonyms=synonyms)\n",
    "    result = search_client.create_synonym_map(synonym_map)\n",
    "    print(\"Create new Synonym Map 'test-syn-map succeeded\")\n",
    "    # [END create_synonym_map]"
   ]
  },
  {
   "cell_type": "code",
   "execution_count": 10,
   "metadata": {},
   "outputs": [
    {
     "ename": "AttributeError",
     "evalue": "'SearchClient' object has no attribute 'create_synonym_map'",
     "output_type": "error",
     "traceback": [
      "\u001b[1;31m---------------------------------------------------------------------------\u001b[0m",
      "\u001b[1;31mAttributeError\u001b[0m                            Traceback (most recent call last)",
      "Cell \u001b[1;32mIn[10], line 3\u001b[0m\n\u001b[0;32m      1\u001b[0m \u001b[39m# Create or update the synonym maps\u001b[39;00m\n\u001b[0;32m      2\u001b[0m \u001b[39mfor\u001b[39;00m synonym_map \u001b[39min\u001b[39;00m list_synonyms:\n\u001b[1;32m----> 3\u001b[0m     create_synonym_map(synonym_map)\n",
      "Cell \u001b[1;32mIn[9], line 4\u001b[0m, in \u001b[0;36mcreate_synonym_map\u001b[1;34m(synonyms)\u001b[0m\n\u001b[0;32m      1\u001b[0m \u001b[39mdef\u001b[39;00m \u001b[39mcreate_synonym_map\u001b[39m(synonyms):\n\u001b[0;32m      2\u001b[0m     \u001b[39m# [START create_synonym_map]\u001b[39;00m\n\u001b[0;32m      3\u001b[0m     synonym_map \u001b[39m=\u001b[39m SynonymMap(name\u001b[39m=\u001b[39m\u001b[39m\"\u001b[39m\u001b[39mtest-syn-map\u001b[39m\u001b[39m\"\u001b[39m, synonyms\u001b[39m=\u001b[39msynonyms)\n\u001b[1;32m----> 4\u001b[0m     result \u001b[39m=\u001b[39m search_client\u001b[39m.\u001b[39;49mcreate_synonym_map(synonym_map)\n\u001b[0;32m      5\u001b[0m     \u001b[39mprint\u001b[39m(\u001b[39m\"\u001b[39m\u001b[39mCreate new Synonym Map \u001b[39m\u001b[39m'\u001b[39m\u001b[39mtest-syn-map succeeded\u001b[39m\u001b[39m\"\u001b[39m)\n",
      "\u001b[1;31mAttributeError\u001b[0m: 'SearchClient' object has no attribute 'create_synonym_map'"
     ]
    }
   ],
   "source": [
    "\n",
    "\n",
    "\n",
    "# Create or update the synonym maps\n",
    "for synonym_map in list_synonyms:\n",
    "    create_synonym_map(synonym_map)"
   ]
  },
  {
   "cell_type": "code",
   "execution_count": null,
   "metadata": {},
   "outputs": [],
   "source": [
    "\n",
    "\n",
    "\n",
    "def create_synonym_map_from_file():\n",
    "    # [START create_synonym_map_from_file]\n",
    "    from os.path import dirname, join, realpath\n",
    "\n",
    "    CWD = dirname(realpath(__file__))\n",
    "    file_path = join(CWD, \"synonym_map.txt\")\n",
    "    with open(file_path, \"r\") as f:\n",
    "        solr_format_synonyms = f.read()\n",
    "        synonyms = solr_format_synonyms.split(\"\\n\")\n",
    "        synonym_map = SynonymMap(name=\"test-syn-map\", synonyms=synonyms)\n",
    "        result = client.create_synonym_map(synonym_map)\n",
    "        print(\"Create new Synonym Map 'test-syn-map succeeded\")\n",
    "    # [END create_synonym_map_from_file]\n",
    "\n",
    "\n",
    "def get_synonym_maps():\n",
    "    # [START get_synonym_maps]\n",
    "    result = client.get_synonym_maps()\n",
    "    names = [x.name for x in result]\n",
    "    print(\"Found {} Synonym Maps in the service: {}\".format(len(result), \", \".join(names)))\n",
    "    # [END get_synonym_maps]\n",
    "\n",
    "\n",
    "def get_synonym_map():\n",
    "    # [START get_synonym_map]\n",
    "    result = client.get_synonym_map(\"test-syn-map\")\n",
    "    print(\"Retrived Synonym Map 'test-syn-map' with synonyms\")\n",
    "    for syn in result.synonyms:\n",
    "        print(\"    {}\".format(syn))\n",
    "    # [END get_synonym_map]\n",
    "\n",
    "\n",
    "def delete_synonym_map():\n",
    "    # [START delete_synonym_map]\n",
    "    client.delete_synonym_map(\"test-syn-map\")\n",
    "    print(\"Synonym Map 'test-syn-map' deleted\")\n",
    "    # [END delete_synonym_map]\n"
   ]
  }
 ],
 "metadata": {
  "kernelspec": {
   "display_name": ".venv",
   "language": "python",
   "name": "python3"
  },
  "language_info": {
   "codemirror_mode": {
    "name": "ipython",
    "version": 3
   },
   "file_extension": ".py",
   "mimetype": "text/x-python",
   "name": "python",
   "nbconvert_exporter": "python",
   "pygments_lexer": "ipython3",
   "version": "3.11.5"
  },
  "orig_nbformat": 4
 },
 "nbformat": 4,
 "nbformat_minor": 2
}
