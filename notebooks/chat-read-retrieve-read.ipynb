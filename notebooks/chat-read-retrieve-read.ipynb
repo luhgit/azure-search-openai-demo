{
 "cells": [
  {
   "cell_type": "code",
   "execution_count": 1,
   "metadata": {},
   "outputs": [],
   "source": [
    "import os\n",
    "import openai\n",
    "from azure.core.credentials import AzureKeyCredential\n",
    "from azure.search.documents import SearchClient\n",
    "from azure.search.documents.models import QueryType, Vector\n",
    "from dotenv import load_dotenv\n",
    "import json\n",
    "\n",
    "import sys\n",
    "sys.path.append('../app/backend')\n",
    "from core.modelhelper import get_token_limit\n",
    "from core.messagebuilder import MessageBuilder\n",
    "from text import nonewlines\n",
    "\n",
    "with open('../.azure/config.json', 'r') as config_file:\n",
    "    config_data = json.load(config_file)\n",
    "dotenv_path = f'../.azure/{config_data[\"defaultEnvironment\"]}/.env'\n",
    "load_dotenv(dotenv_path) # Load environment variables from .env file\n",
    "\n",
    "# Replace these with your own values, either in environment variables or directly here\n",
    "AZURE_STORAGE_ACCOUNT = os.environ.get(\"AZURE_STORAGE_ACCOUNT\") \n",
    "AZURE_STORAGE_CONTAINER = os.environ.get(\"AZURE_STORAGE_CONTAINER\") \n",
    "AZURE_SEARCH_SERVICE = os.environ.get(\"AZURE_SEARCH_SERVICE\")\n",
    "AZURE_SEARCH_INDEX = os.environ.get(\"AZURE_SEARCH_INDEX\") \n",
    "AZURE_OPENAI_SERVICE = os.environ.get(\"AZURE_OPENAI_SERVICE\") \n",
    "AZURE_OPENAI_GPT_DEPLOYMENT = os.environ.get(\"AZURE_OPENAI_GPT_DEPLOYMENT\") \n",
    "AZURE_OPENAI_CHATGPT_DEPLOYMENT = os.environ.get(\"AZURE_OPENAI_CHATGPT_DEPLOYMENT\")\n",
    "AZURE_OPENAI_EMB_DEPLOYMENT = os.environ.get(\"AZURE_OPENAI_EMB_DEPLOYMENT\")\n",
    "AZURE_OPENAI_CHATGPT_MODEL = os.environ.get(\"AZURE_OPENAI_CHATGPT_MODEL\")\n",
    "\n",
    "KB_FIELDS_CONTENT = os.environ.get(\"KB_FIELDS_CONTENT\") \n",
    "KB_FIELDS_CATEGORY = os.environ.get(\"KB_FIELDS_CATEGORY\") \n",
    "KB_FIELDS_SOURCEPAGE = os.environ.get(\"KB_FIELDS_SOURCEPAGE\")\n",
    "\n",
    "# Use the current user identity to authenticate with Azure OpenAI, Cognitive Search and Blob Storage (no secrets needed, \n",
    "# just use 'az login' locally, and managed identity when deployed on Azure). If you need to use keys, use separate AzureKeyCredential instances with the \n",
    "# keys for each service\n",
    "\n",
    "# Used by the OpenAI SDK\n",
    "openai.api_type = \"azure\"\n",
    "openai.api_base = f\"https://{AZURE_OPENAI_SERVICE}.openai.azure.com\"\n",
    "openai.api_version = \"2023-05-15\"\n",
    "\n",
    "\"# Comment these two lines out if using keys, set your API key in the OPENAI_API_KEY environment variable and set openai.api_type = \\\"azure\\\" instead\\n\"\n",
    "#openai.api_type = \"azure_ad\"\n",
    "openai.api_key = os.environ.get(\"OPENAI_API_KEY\")#azure_credential.get_token(\"https://cognitiveservices.azure.com/.default\").token\n",
    "\n",
    "# Set up clients for Cognitive Search and Storage\n",
    "admin_key = os.environ.get(\"AZURE_COGNITIVE_SEARCH_KEY\")\n",
    "\n",
    "search_client = SearchClient(\n",
    "    endpoint= os.environ.get(\"AZURE_COGNITIVE_SEARCH_ENDPOINT\"),\n",
    "    index_name=AZURE_SEARCH_INDEX,\n",
    "    credential=AzureKeyCredential(admin_key))"
   ]
  },
  {
   "cell_type": "code",
   "execution_count": 2,
   "metadata": {},
   "outputs": [],
   "source": [
    "from azure.storage.blob import BlobServiceClient\n",
    "blob_client = BlobServiceClient(\n",
    "    account_url=f\"https://{AZURE_STORAGE_ACCOUNT}.blob.core.windows.net\", \n",
    "    credential=os.environ.get(\"AZURE_SAS_TOKEN\"))\n",
    "blob_container = blob_client.get_container_client(AZURE_STORAGE_CONTAINER)"
   ]
  },
  {
   "cell_type": "code",
   "execution_count": 3,
   "metadata": {},
   "outputs": [],
   "source": [
    "SYSTEM = \"system\"\n",
    "USER = \"user\"\n",
    "ASSISTANT = \"assistant\"\n",
    "\n",
    "system_message_chat_conversation = \"\"\"You are a customer service assistant for BSH company, helping customers with their home appliance questions, including inquiries about purchasing new products, features, configurations, and troubleshooting.\n",
    "Start answering thanking the user for their question. Respond in a slightly informal, and helpful tone, with a brief and clear answers. \n",
    "Answer ONLY with the facts listed in the list of sources below. If there isn't enough information below, say you don't know without referring to the sources. \n",
    "Do not generate answers that don't use the sources below and avoid to just cite the source without answering the question. \n",
    "If asking a clarifying question to the user would help, ask the question. \n",
    "For tabular information, return it as an HTML table. Do not return markdown format. \n",
    "If the question is not in English, answer in the language used in the question. \n",
    "Each source has a name followed by a colon and the actual information; always include the source name for each fact you use in the response without referring to the sources. \n",
    "For example, if the question is 'What is the capacity of this washing machine?' and one of the information sources says 'WGB256090_EN-54.pdf: the capacity is 5kg', then answer with 'The capacity is 5kg [WGB256090_EN-54.pdf]'. \n",
    "If there are multiple sources, cite each one in their own square brackets. For example, use '[WGB256090_EN-54.pdf][SMS8YCI03E_EN-24.pdf]' and not in '[WGB256090_EN-54.pdf, SMS8YCI03E_EN-24.pdf]'. \n",
    "The name of the source follows a special format: <model_number>_<document_language>-<page_number>.pdf. \n",
    "You can Use this information from source name, especially if someone is asking a question about a specific model.\n",
    "{follow_up_questions_prompt}\n",
    "{injected_prompt}\n",
    "\"\"\"\n",
    "follow_up_questions_prompt_content = \"\"\"Generate three very brief follow-up questions that the user would likely ask next about the home appliance they are interested in or need help with. \n",
    "Use double angle brackets to reference the questions, e.g. <<Is there a warranty on this washing machine?>>. \n",
    "Try not to repeat questions that have already been asked. \n",
    "Only generate questions and do not generate any text before or after the questions, such as 'Next Questions'\n",
    "\"\"\"\n",
    "\n",
    "query_prompt_template = \"\"\"Below is a history of the conversation so far, and a new question asked by the user that needs to be answered by searching in a knowledge base about BSH company's home appliances, including buying guides, features, configurations, and troubleshooting.\n",
    "Generate a search query based on the conversation and the new question. \n",
    "Do not include cited source filenames and document names e.g info.txt or doc.pdf in the search query terms.\n",
    "Do not include any text inside [] or <<>> in the search query terms.\n",
    "Do not include any special characters like '+'.\n",
    "If the question is not in English, translate the question to English before generating the search query.\n",
    "If you cannot generate a search query, return just the number 0.\n",
    "\"\"\"\n",
    "query_prompt_few_shots = [\n",
    "{'role' : USER, 'content' : 'how to load the washing machine?' },\n",
    "{'role' : ASSISTANT, 'content' : 'Show the procedure to load a washing machine' },\n",
    "{'role' : USER, 'content' : 'Does my washing machine has wifi?' },\n",
    "{'role' : ASSISTANT, 'content' : 'Check for the wifi feature on the specified washing machine' }\n",
    "\n",
    "]\n",
    "\n",
    "filter_prompt_template = \"\"\"Below is a history of the conversation so far, and a new question asked by the user. \n",
    "First step: identify the language of the question and return \"en-us\" if it's in english and \"de-de\" if it's in german.\n",
    "If you don't know the language, return \"unknown\".\n",
    "Possible aswers are: \"en-us\", \"de-de\", \"unknown\".\n",
    "Second step: identify the product mentioned in the question and return the product id.\n",
    "If you don't know the which product the client is talking about because it's not mentioned explicitly in the question, return \"unknown\".\n",
    "Product ids are only \"SMS6TCI00E\", \"WUU28TA8\", if it's not one of these two, return \"unknown\".\n",
    "Possible answers are: \"SMS6TCI00E\", \"WUU28TA8\", \"unknown\".\n",
    "\n",
    "Return the two answers separated by a comma, e.g. \"en-us,SMS6TCI00E\".\n",
    "\"\"\"\n",
    "\n",
    "filter_prompt_few_shots = [\n",
    "{'role' : USER, 'content' : 'how to load the washing machine?' },\n",
    "{'role' : ASSISTANT, 'content' : 'en-us,unknown' }, \n",
    "{'role' : USER, 'content' : 'what are the available programms for SMS6TCI00E whashing machine?' },\n",
    "{'role' : ASSISTANT, 'content' : 'en-us,SMS6TCI00E' }, \n",
    "{'role' : USER, 'content' : 'what are the available programms for the whashing machine?' },\n",
    "{'role' : ASSISTANT, 'content' : 'en-us,unknown' }\n",
    "]\n"
   ]
  },
  {
   "cell_type": "code",
   "execution_count": 4,
   "metadata": {},
   "outputs": [],
   "source": [
    "request = {'history': [{'user': 'There is too much vibrations on my washer, how can I solve the problem?'}],\n",
    "  'approach': 'rrr', 'overrides': {'retrieval_mode': 'hybrid', 'semantic_ranker': True, 'semantic_captions': False, 'top': 5, 'suggest_followup_questions': False}}\n",
    "overrides = request['overrides']\n",
    "history = request[\"history\"]\n",
    "\n",
    "chatgpt_token_limit = get_token_limit(AZURE_OPENAI_CHATGPT_MODEL)\n",
    "\n",
    "def get_messages_from_history(system_prompt: str, model_id: str, history, user_conv: str, few_shots = [], max_tokens: int = 4096):\n",
    "    message_builder = MessageBuilder(system_prompt, model_id)\n",
    "\n",
    "    # Add examples to show the chat what responses we want. It will try to mimic any responses and make sure they match the rules laid out in the system message.\n",
    "    for shot in few_shots:\n",
    "        message_builder.append_message(shot.get('role'), shot.get('content'))\n",
    "\n",
    "    user_content = user_conv\n",
    "    append_index = len(few_shots) + 1\n",
    "\n",
    "    message_builder.append_message(USER, user_content, index=append_index)\n",
    "\n",
    "    for h in reversed(history[:-1]):\n",
    "        if h.get(\"bot\"):\n",
    "            message_builder.append_message(ASSISTANT, h.get('bot'), index=append_index)\n",
    "        message_builder.append_message(USER, h.get('user'), index=append_index)\n",
    "        if message_builder.token_length > max_tokens:\n",
    "            break\n",
    "    \n",
    "    messages = message_builder.messages\n",
    "    return messages"
   ]
  },
  {
   "cell_type": "code",
   "execution_count": 17,
   "metadata": {},
   "outputs": [
    {
     "name": "stdout",
     "output_type": "stream",
     "text": [
      "prompt for query generation: User question: There is too much vibrations on my washer, how can I solve the problem?\n",
      "\n",
      "Message from chat history: [{'role': 'system', 'content': 'Below is a history of the conversation so far, and a new question asked by the user. \\nFirst step: identify the language of the question and return \"en-us\" if it\\'s in english and \"de-de\" if it\\'s in german.\\nIf you don\\'t know the language, return \"unknown\".\\nPossible aswers are: \"en-us\", \"de-de\", \"unknown\".\\nSecond step: identify the product mentioned in the question and return the product id.\\nIf you don\\'t know the which product the client is talking about because it\\'s not mentioned explicitly in the question, return \"unknown\".\\nProduct ids are only \"SMS6TCI00E\", \"WUU28TA8\", if it\\'s not one of these two, return \"unknown\".\\nPossible answers are: \"SMS6TCI00E\", \"WUU28TA8\", \"unknown\".\\n\\nReturn the two answers separated by a comma, e.g. \"en-us,SMS6TCI00E\".\\n'}, {'role': 'assistant', 'content': 'en-us,unknown'}, {'role': 'user', 'content': 'what are the available programms for the whashing machine?'}, {'role': 'assistant', 'content': 'en-us,SMS6TCI00E'}, {'role': 'user', 'content': 'what are the available programms for SMS6TCI00E whashing machine?'}, {'role': 'assistant', 'content': 'en-us,unknown'}, {'role': 'user', 'content': 'how to load the washing machine?'}, {'role': 'user', 'content': 'User question: There is too much vibrations on my washer, how can I solve the problem?'}]\n",
      "\n",
      "en-us,WUU28TA8\n"
     ]
    }
   ],
   "source": [
    "has_text = overrides.get(\"retrieval_mode\") in [\"text\", \"hybrid\", None]\n",
    "has_vector = overrides.get(\"retrieval_mode\") in [\"vectors\", \"hybrid\", None]\n",
    "use_semantic_captions = True if overrides.get(\"semantic_captions\") and has_text else False\n",
    "top = overrides.get(\"top\") or 3\n",
    "exclude_category = overrides.get(\"exclude_category\") or None\n",
    "filter = \"category ne '{}'\".format(exclude_category.replace(\"'\", \"''\")) if exclude_category else None\n",
    "\n",
    "user_q = 'User question: ' + history[-1][\"user\"]\n",
    "\n",
    "print(\"prompt for query generation: \" + user_q + \"\\n\")\n",
    "\n",
    "# STEP 1: Generate an optimized keyword search query based on the chat history and the last question\n",
    "messages_filtering = get_messages_from_history(\n",
    "    filter_prompt_template,\n",
    "    AZURE_OPENAI_CHATGPT_MODEL,\n",
    "    history,\n",
    "    user_q,\n",
    "    filter_prompt_few_shots,\n",
    "    chatgpt_token_limit - len(user_q)\n",
    "    )\n",
    "\n",
    "print(\"Message from chat history: \" + str(messages_filtering) + \"\\n\")\n",
    "\n",
    "chat_completion_filter = await openai.ChatCompletion.acreate(\n",
    "    deployment_id=AZURE_OPENAI_CHATGPT_DEPLOYMENT,\n",
    "    model=AZURE_OPENAI_CHATGPT_MODEL,\n",
    "    messages=messages_filtering,\n",
    "    temperature=0.0,\n",
    "    max_tokens=32,\n",
    "    n=1)\n",
    "\n",
    "filtering_content = chat_completion_filter.choices[0].message.content\n",
    "print(filtering_content)"
   ]
  },
  {
   "cell_type": "code",
   "execution_count": 18,
   "metadata": {},
   "outputs": [
    {
     "name": "stdout",
     "output_type": "stream",
     "text": [
      "prompt for query generation: Generate search query for: There is too much vibrations on my washer, how can I solve the problem?\n",
      "\n",
      "Message from chat history: [{'role': 'system', 'content': \"Below is a history of the conversation so far, and a new question asked by the user that needs to be answered by searching in a knowledge base about BSH company's home appliances, including buying guides, features, configurations, and troubleshooting.\\nGenerate a search query based on the conversation and the new question. \\nDo not include cited source filenames and document names e.g info.txt or doc.pdf in the search query terms.\\nDo not include any text inside [] or <<>> in the search query terms.\\nDo not include any special characters like '+'.\\nIf the question is not in English, translate the question to English before generating the search query.\\nIf you cannot generate a search query, return just the number 0.\\n\"}, {'role': 'assistant', 'content': 'Check for the wifi feature on the specified washing machine'}, {'role': 'user', 'content': 'Does my washing machine has wifi?'}, {'role': 'assistant', 'content': 'Show the procedure to load a washing machine'}, {'role': 'user', 'content': 'how to load the washing machine?'}, {'role': 'user', 'content': 'Generate search query for: There is too much vibrations on my washer, how can I solve the problem?'}]\n",
      "\n",
      "\"Reducing vibrations on BSH washing machine\"\n"
     ]
    }
   ],
   "source": [
    "user_q = 'Generate search query for: ' + history[-1][\"user\"]\n",
    "print(\"prompt for query generation: \" + user_q + \"\\n\")\n",
    "\n",
    "# STEP 1: Generate an optimized keyword search query based on the chat history and the last question\n",
    "messages = get_messages_from_history(\n",
    "    query_prompt_template,\n",
    "    AZURE_OPENAI_CHATGPT_MODEL,\n",
    "    history,\n",
    "    user_q,\n",
    "    query_prompt_few_shots,\n",
    "    chatgpt_token_limit - len(user_q)\n",
    "    )\n",
    "\n",
    "print(\"Message from chat history: \" + str(messages) + \"\\n\")\n",
    "\n",
    "chat_completion = await openai.ChatCompletion.acreate(\n",
    "    deployment_id=AZURE_OPENAI_CHATGPT_DEPLOYMENT,\n",
    "    model=AZURE_OPENAI_CHATGPT_MODEL,\n",
    "    messages=messages,\n",
    "    temperature=0.0,\n",
    "    max_tokens=32,\n",
    "    n=1)\n",
    "\n",
    "response_content = chat_completion.choices[0].message.content\n",
    "print(response_content)"
   ]
  },
  {
   "cell_type": "code",
   "execution_count": 19,
   "metadata": {},
   "outputs": [
    {
     "name": "stdout",
     "output_type": "stream",
     "text": [
      "Filter: language eq 'en-us' and product_id eq 'WUU28TA8'\n",
      "\n"
     ]
    }
   ],
   "source": [
    "language_code_with_country, product_query = filtering_content.split(\",\")\n",
    "# Constructing the language filter\n",
    "if language_code_with_country in [\"en-us\", \"de-de\"]:\n",
    "    language_filter = f\"language eq '{language_code_with_country}'\"\n",
    "    if product_query != \"unknown\":\n",
    "        product_filter = f\"product_id eq '{product_query}'\"\n",
    "        language_filter = f\"{language_filter} and {product_filter}\"\n",
    "else:\n",
    "    language_filter = \"\"\n",
    "    if product_query != \"unknown\":\n",
    "        language_filter = f\"product_id eq '{product_query}'\"\n",
    "print(\"Filter: \" + language_filter + \"\\n\")"
   ]
  },
  {
   "cell_type": "code",
   "execution_count": 20,
   "metadata": {},
   "outputs": [
    {
     "data": {
      "text/plain": [
       "'\"Reducing vibrations on BSH washing machine\"'"
      ]
     },
     "execution_count": 20,
     "metadata": {},
     "output_type": "execute_result"
    }
   ],
   "source": [
    "response_content"
   ]
  },
  {
   "cell_type": "code",
   "execution_count": 21,
   "metadata": {},
   "outputs": [
    {
     "data": {
      "text/plain": [
       "True"
      ]
     },
     "execution_count": 21,
     "metadata": {},
     "output_type": "execute_result"
    }
   ],
   "source": [
    "has_vector"
   ]
  },
  {
   "cell_type": "code",
   "execution_count": 25,
   "metadata": {},
   "outputs": [],
   "source": [
    "# If retrieval mode includes vectors, compute an embedding for the query\n",
    "if has_vector:\n",
    "    query_vector = (await openai.Embedding.acreate(engine=AZURE_OPENAI_EMB_DEPLOYMENT, input=response_content))[\"data\"][0][\"embedding\"]\n",
    "else:\n",
    "    query_vector = None\n",
    "\n",
    "    # Only keep the text query if the retrieval mode uses text, otherwise drop it\n",
    "if not has_text:\n",
    "    response_content = None\n",
    "\n",
    "# Use semantic L2 reranker if requested and if retrieval mode is text or hybrid (vectors + text)\n",
    "if overrides.get(\"semantic_ranker\") and has_text:\n",
    "    r = search_client.search(response_content,\n",
    "                                    filter=language_filter,\n",
    "                                    query_type=QueryType.SEMANTIC,\n",
    "                                    query_language=language_code_with_country,\n",
    "                                    query_speller=\"lexicon\",\n",
    "                                    semantic_configuration_name=\"default\",\n",
    "                                    top=top,\n",
    "                                    query_caption=\"extractive|highlight-false\" if use_semantic_captions else None,\n",
    "                                    vector=query_vector,\n",
    "                                    top_k=50 if query_vector else None,\n",
    "                                    vector_fields=\"embedding\" if query_vector else None)\n",
    "else:\n",
    "    r = search_client.search(response_content,\n",
    "                                    filter=language_filter,\n",
    "                                    top=top,\n",
    "                                    vector=query_vector,\n",
    "                                    top_k=50 if query_vector else None,\n",
    "                                    vector_fields=\"embedding\" if query_vector else None)"
   ]
  },
  {
   "cell_type": "code",
   "execution_count": 26,
   "metadata": {},
   "outputs": [
    {
     "data": {
      "text/plain": [
       "'\"Reducing vibrations on BSH washing machine\"'"
      ]
     },
     "execution_count": 26,
     "metadata": {},
     "output_type": "execute_result"
    }
   ],
   "source": [
    "response_content"
   ]
  },
  {
   "cell_type": "code",
   "execution_count": 27,
   "metadata": {},
   "outputs": [
    {
     "data": {
      "text/plain": [
       "<SearchClient [endpoint='https://cgs-learning-silvia-basic.search.windows.net', index='ixbshopenai']>"
      ]
     },
     "execution_count": 27,
     "metadata": {},
     "output_type": "execute_result"
    }
   ],
   "source": [
    "search_client"
   ]
  },
  {
   "cell_type": "code",
   "execution_count": 28,
   "metadata": {},
   "outputs": [],
   "source": [
    "if use_semantic_captions:\n",
    "    results = [doc[KB_FIELDS_SOURCEPAGE] + \": \" + nonewlines(\" . \".join([c.text for c in doc['@search.captions']])) for doc in r]\n",
    "else:\n",
    "    results = [doc[KB_FIELDS_SOURCEPAGE] + \": \" + nonewlines(doc[KB_FIELDS_CONTENT]) for doc in r]\n",
    "content = \"\\n\".join(results)"
   ]
  },
  {
   "cell_type": "code",
   "execution_count": 29,
   "metadata": {},
   "outputs": [
    {
     "name": "stdout",
     "output_type": "stream",
     "text": [
      "WUU28TA8_en-us_washing machine-14.pdf:  ▶Secure the water outlet hose against unintentional loosening. Note:  Observe the draining heights. The maximum draining height is 100 cm.Siphon  Secure the con- nection point with a (24–40 mm) hose clamp. Sink  Fix and secure the water outlet hose with an el- bow → Page  28. Plastic pipe with rubber sleeve or gully Fix and secure the water outlet hose with an el- bow → Page  28. 4.6 Aligning the appliance In order to reduce noise and vibra- tion and to prevent the appliance from moving, align the appliance cor- rectly. 1.Loosen the lock nuts using a WAF 17 wrench by turning it in a clock- wise direction. en Installation and connection 162.To align the appliance, turn the ap- pliance feet. Check that the appli- ance is level using a spirit level. All appliance feet must stand firmly on the ground. 3.Screw the lock nuts tightly against the housing using a WAF 17 wrench. In doing so, hold the foot tight and do not adjust its height. 4.7 Connecting the appliance to the electricity supply Note:  Your electrical domestic install- ation for this appliance must comply with the local legal provisions and safety regulations, and \n",
      "WUU28TA8_en-us_washing machine-5.pdf:  ▶Do not install appliances from different manufacturers and with varying depths and widths in a washer-dryer stack. ▶Do not install a washer-dryer stack on a platform; the appli- ances may tip over. WARNING ‒ Risk of suffocation! Children may put packaging material over their heads or wrap themselves up in it and suffocate. ▶Keep packaging material away from children. ▶Do not let children play with packaging material. CAUTION ‒ Risk of injury! The appliance may vibrate or move when in use. ▶Place the appliance on a clean, even, solid surface. ▶Align the appliance using the appliance feet and a spirit level. If hoses and power cords have been laid incorrectly, this causes a tripping hazard. ▶Lay hoses and power cords in such a way that there is no risk of tripping. If the appliance is moved by holding onto protruding components, such as the appliance door, the parts may break off. ▶Do not move the appliance by holding onto protruding parts. CAUTION ‒ Risk of cutting! Touching sharp edges on the appliance may lead to cuts.\n",
      "WUU28TA8_en-us_washing machine-41.pdf:  ▶Not a fault – no action required. Residual water is present in the com- partment   .Insert in compartment    is blocked. ▶→ \"Cleaning the detergent drawer\",  Page  33 Vibrations and move- ment of the appliance whilst spinning.Appliance is not correctly aligned. ▶→ \"Aligning the appliance\",  Page  15 The appliance feet are not fixed. ▶Secure the appliance feet.  → \"Aligning the appliance\",  Page  15 Transit bolts have not been removed. ▶→ \"Removing the transit bolts\",  Page  13. Drum rotates, water does not flow in.Load detection is active. ▶Not a fault – no action required. Note:  The load detection can take up to two minutes.Troubleshooting  en 43Fault Cause and troubleshooting Heavy foam build-up Detergent dosage is too high. ▶Immediate measure: Mix one tablespoon of fabric softener with 0.5 litres of water and pour the mix- ture into the left-hand compartment (not for outdoor clothing, sportswear or items stuffed with down). ▶Reduce the amount of detergent for the next wash- ing cycle with the same load.\n",
      "WUU28TA8_en-us_washing machine-42.pdf:  Note:  Where possible, mix large and small items in the drum. Different sized items of laundry distribute themselves better during the spin cycle. ▶Start the Schleudern  programme. Rushing, hissing noise.Water is flushed under pressure into the detergent drawer. ▶Not a fault – normal operating noise. Loud noises during the spin cycle.Appliance is not correctly aligned. ▶→ \"Aligning the appliance\",  Page  15 The appliance feet are not fixed. ▶Secure the appliance feet.  → \"Aligning the appliance\",  Page  15 Transit bolts have not been removed. ▶→ \"Removing the transit bolts\",  Page  13.en Troubleshooting 44Fault Cause and troubleshooting Banging noises, rat- tling in the drain pump.Foreign bodies have got into the drain pump. ▶→ \"Cleaning the drain pump\",  Page  34 Slurping, rhythmical suction noise.The drain pump is active, the detergent solution is pumped out. ▶Not a fault – normal operating noise. Creasing. The spin speed is too high. ▶The next time you run a wash cycle, set a lower spin speed. The load is too large. ▶The next time you run a wash cycle, reduce the amount of laundry being loaded.\n",
      "WUU28TA8_en-us_washing machine-42.pdf: of water and pour the mix- ture into the left-hand compartment (not for outdoor clothing, sportswear or items stuffed with down). ▶Reduce the amount of detergent for the next wash- ing cycle with the same load. High spin speed not reached.A low spin speed is selected. ▶The next time you run a wash cycle, set a higher spin speed. Unbalance load detection system is using a reduced spin speed to eliminate an unbalance. ▶Redistribute the laundry in the drum. Note:  Where possible, mix large and small items in the drum. Different sized items of laundry distribute themselves better during the spin cycle. ▶Start the Schleudern  programme. The spin programme does not start.Drain pipe or water outlet hose is blocked. ▶Clean the drain pipe and the water outlet hose. Drain pipe or water drain hose is caught or jammed. ▶Ensure that the drain pipe and water drain hose are not kinked or trapped. The unbalanced load detection system has interrupted the spin cycle because the laundry is unevenly distrib- uted. ▶Redistribute the laundry in the drum. Note:  Where possible, mix large and small items in the drum. Different sized items of laundry distribute themselves better during the spin cycle.\n"
     ]
    }
   ],
   "source": [
    "print(content)"
   ]
  },
  {
   "cell_type": "code",
   "execution_count": 30,
   "metadata": {},
   "outputs": [
    {
     "name": "stdout",
     "output_type": "stream",
     "text": [
      "Retrieved documents: WUU28TA8_en-us_washing machine-14.pdf:  ▶Secure the water outlet hose against unintentional loosening. Note:  Observe the draining heights. The maximum draining height is 100 cm.Siphon  Secure the con- nection point with a (24–40 mm) hose clamp. Sink  Fix and secure the water outlet hose with an el- bow → Page  28. Plastic pipe with rubber sleeve or gully Fix and secure the water outlet hose with an el- bow → Page  28. 4.6 Aligning the appliance In order to reduce noise and vibra- tion and to prevent the appliance from moving, align the appliance cor- rectly. 1.Loosen the lock nuts using a WAF 17 wrench by turning it in a clock- wise direction. en Installation and connection 162.To align the appliance, turn the ap- pliance feet. Check that the appli- ance is level using a spirit level. All appliance feet must stand firmly on the ground. 3.Screw the lock nuts tightly against the housing using a WAF 17 wrench. In doing so, hold the foot tight and do not adjust its height. 4.7 Connecting the appliance to the electricity supply Note:  Your electrical domestic install- ation for this appliance must comply with the local legal provisions and safety regulations, and \n",
      "WUU28TA8_en-us_washing machine-5.pdf:  ▶Do not install appliances from different manufacturers and with varying depths and widths in a washer-dryer stack. ▶Do not install a washer-dryer stack on a platform; the appli- ances may tip over. WARNING ‒ Risk of suffocation! Children may put packaging material over their heads or wrap themselves up in it and suffocate. ▶Keep packaging material away from children. ▶Do not let children play with packaging material. CAUTION ‒ Risk of injury! The appliance may vibrate or move when in use. ▶Place the appliance on a clean, even, solid surface. ▶Align the appliance using the appliance feet and a spirit level. If hoses and power cords have been laid incorrectly, this causes a tripping hazard. ▶Lay hoses and power cords in such a way that there is no risk of tripping. If the appliance is moved by holding onto protruding components, such as the appliance door, the parts may break off. ▶Do not move the appliance by holding onto protruding parts. CAUTION ‒ Risk of cutting! Touching sharp edges on the appliance may lead to cuts.\n",
      "WUU28TA8_en-us_washing machine-41.pdf:  ▶Not a fault – no action required. Residual water is present in the com- partment   .Insert in compartment    is blocked. ▶→ \"Cleaning the detergent drawer\",  Page  33 Vibrations and move- ment of the appliance whilst spinning.Appliance is not correctly aligned. ▶→ \"Aligning the appliance\",  Page  15 The appliance feet are not fixed. ▶Secure the appliance feet.  → \"Aligning the appliance\",  Page  15 Transit bolts have not been removed. ▶→ \"Removing the transit bolts\",  Page  13. Drum rotates, water does not flow in.Load detection is active. ▶Not a fault – no action required. Note:  The load detection can take up to two minutes.Troubleshooting  en 43Fault Cause and troubleshooting Heavy foam build-up Detergent dosage is too high. ▶Immediate measure: Mix one tablespoon of fabric softener with 0.5 litres of water and pour the mix- ture into the left-hand compartment (not for outdoor clothing, sportswear or items stuffed with down). ▶Reduce the amount of detergent for the next wash- ing cycle with the same load.\n",
      "WUU28TA8_en-us_washing machine-42.pdf:  Note:  Where possible, mix large and small items in the drum. Different sized items of laundry distribute themselves better during the spin cycle. ▶Start the Schleudern  programme. Rushing, hissing noise.Water is flushed under pressure into the detergent drawer. ▶Not a fault – normal operating noise. Loud noises during the spin cycle.Appliance is not correctly aligned. ▶→ \"Aligning the appliance\",  Page  15 The appliance feet are not fixed. ▶Secure the appliance feet.  → \"Aligning the appliance\",  Page  15 Transit bolts have not been removed. ▶→ \"Removing the transit bolts\",  Page  13.en Troubleshooting 44Fault Cause and troubleshooting Banging noises, rat- tling in the drain pump.Foreign bodies have got into the drain pump. ▶→ \"Cleaning the drain pump\",  Page  34 Slurping, rhythmical suction noise.The drain pump is active, the detergent solution is pumped out. ▶Not a fault – normal operating noise. Creasing. The spin speed is too high. ▶The next time you run a wash cycle, set a lower spin speed. The load is too large. ▶The next time you run a wash cycle, reduce the amount of laundry being loaded.\n",
      "WUU28TA8_en-us_washing machine-42.pdf: of water and pour the mix- ture into the left-hand compartment (not for outdoor clothing, sportswear or items stuffed with down). ▶Reduce the amount of detergent for the next wash- ing cycle with the same load. High spin speed not reached.A low spin speed is selected. ▶The next time you run a wash cycle, set a higher spin speed. Unbalance load detection system is using a reduced spin speed to eliminate an unbalance. ▶Redistribute the laundry in the drum. Note:  Where possible, mix large and small items in the drum. Different sized items of laundry distribute themselves better during the spin cycle. ▶Start the Schleudern  programme. The spin programme does not start.Drain pipe or water outlet hose is blocked. ▶Clean the drain pipe and the water outlet hose. Drain pipe or water drain hose is caught or jammed. ▶Ensure that the drain pipe and water drain hose are not kinked or trapped. The unbalanced load detection system has interrupted the spin cycle because the laundry is unevenly distrib- uted. ▶Redistribute the laundry in the drum. Note:  Where possible, mix large and small items in the drum. Different sized items of laundry distribute themselves better during the spin cycle.\n",
      "\n",
      "Follow up questions prompt: \n",
      "\n",
      "Message from chat history: [{'role': 'system', 'content': 'You are a customer service assistant for BSH company, helping customers with their home appliance questions, including inquiries about purchasing new products, features, configurations, and troubleshooting.\\nStart answering thanking the user for their question. Respond in a slightly informal, and helpful tone, with a brief and clear answers. \\nAnswer ONLY with the facts listed in the list of sources below. If there isn\\'t enough information below, say you don\\'t know without referring to the sources. \\nDo not generate answers that don\\'t use the sources below and avoid to just cite the source without answering the question. \\nIf asking a clarifying question to the user would help, ask the question. \\nFor tabular information, return it as an HTML table. Do not return markdown format. \\nIf the question is not in English, answer in the language used in the question. \\nEach source has a name followed by a colon and the actual information; always include the source name for each fact you use in the response without referring to the sources. \\nFor example, if the question is \\'What is the capacity of this washing machine?\\' and one of the information sources says \\'WGB256090_EN-54.pdf: the capacity is 5kg\\', then answer with \\'The capacity is 5kg [WGB256090_EN-54.pdf]\\'. \\nIf there are multiple sources, cite each one in their own square brackets. For example, use \\'[WGB256090_EN-54.pdf][SMS8YCI03E_EN-24.pdf]\\' and not in \\'[WGB256090_EN-54.pdf, SMS8YCI03E_EN-24.pdf]\\'. \\nThe name of the source follows a special format: <model_number>_<document_language>-<page_number>.pdf. \\nYou can Use this information from source name, especially if someone is asking a question about a specific model.\\n\\n\\n\\n\\nSources:\\nWUU28TA8_en-us_washing machine-14.pdf:  ▶Secure the water outlet hose against unintentional loosening. Note:\\xa0 Observe the draining heights. The maximum draining height is 100\\xa0cm.Siphon  Secure the con- nection point with a (24–40 mm) hose clamp. Sink  Fix and secure the water outlet hose with an el- bow →\\xa0Page\\xa0 28. Plastic pipe with rubber sleeve or gully Fix and secure the water outlet hose with an el- bow →\\xa0Page\\xa0 28. 4.6\\u2000Aligning the appliance In order to reduce noise and vibra- tion and to prevent the appliance from moving, align the appliance cor- rectly. 1.Loosen the lock nuts using a WAF 17 wrench by turning it in a clock- wise direction. en\\u2003Installation and connection 162.To align the appliance, turn the ap- pliance feet. Check that the appli- ance is level using a spirit level. All appliance feet must stand firmly on the ground. 3.Screw the lock nuts tightly against the housing using a WAF 17 wrench. In doing so, hold the foot tight and do not adjust its height. 4.7\\u2000Connecting the appliance to the electricity supply Note:\\xa0 Your electrical domestic install- ation for this appliance must comply with the local legal provisions and safety regulations, and \\nWUU28TA8_en-us_washing machine-5.pdf:  ▶Do not install appliances from different manufacturers and with varying depths and widths in a washer-dryer stack. ▶Do not install a washer-dryer stack on a platform; the appli- ances may tip over. WARNING\\xa0‒\\xa0Risk of suffocation! Children may put packaging material over their heads or wrap themselves up in it and suffocate. ▶Keep packaging material away from children. ▶Do not let children play with packaging material. CAUTION\\xa0‒\\xa0Risk of injury! The appliance may vibrate or move when in use. ▶Place the appliance on a clean, even, solid surface. ▶Align the appliance using the appliance feet and a spirit level. If hoses and power cords have been laid incorrectly, this causes a tripping hazard. ▶Lay hoses and power cords in such a way that there is no risk of tripping. If the appliance is moved by holding onto protruding components, such as the appliance door, the parts may break off. ▶Do not move the appliance by holding onto protruding parts. CAUTION\\xa0‒\\xa0Risk of cutting! Touching sharp edges on the appliance may lead to cuts.\\nWUU28TA8_en-us_washing machine-41.pdf:  ▶Not a fault – no action required. Residual water is present in the com- partment   .Insert in compartment    is blocked. ▶→\\xa0\"Cleaning the detergent drawer\",  Page\\xa0 33 Vibrations and move- ment of the appliance whilst spinning.Appliance is not correctly aligned. ▶→\\xa0\"Aligning the appliance\",  Page\\xa0 15 The appliance feet are not fixed. ▶Secure the appliance feet.  →\\xa0\"Aligning the appliance\",  Page\\xa0 15 Transit bolts have not been removed. ▶→\\xa0\"Removing the transit bolts\",  Page\\xa0 13. Drum rotates, water does not flow in.Load detection is active. ▶Not a fault – no action required. Note:\\xa0 The load detection can take up to two minutes.Troubleshooting \\u2003en 43Fault Cause and troubleshooting Heavy foam build-up Detergent dosage is too high. ▶Immediate measure: Mix one tablespoon of fabric softener with 0.5 litres of water and pour the mix- ture into the left-hand compartment (not for outdoor clothing, sportswear or items stuffed with down). ▶Reduce the amount of detergent for the next wash- ing cycle with the same load.\\nWUU28TA8_en-us_washing machine-42.pdf:  Note:\\xa0 Where possible, mix large and small items in the drum. Different sized items of laundry distribute themselves better during the spin cycle. ▶Start the Schleudern \\xa0programme. Rushing, hissing noise.Water is flushed under pressure into the detergent drawer. ▶Not a fault – normal operating noise. Loud noises during the spin cycle.Appliance is not correctly aligned. ▶→\\xa0\"Aligning the appliance\",  Page\\xa0 15 The appliance feet are not fixed. ▶Secure the appliance feet.  →\\xa0\"Aligning the appliance\",  Page\\xa0 15 Transit bolts have not been removed. ▶→\\xa0\"Removing the transit bolts\",  Page\\xa0 13.en\\u2003Troubleshooting 44Fault Cause and troubleshooting Banging noises, rat- tling in the drain pump.Foreign bodies have got into the drain pump. ▶→\\xa0\"Cleaning the drain pump\",  Page\\xa0 34 Slurping, rhythmical suction noise.The drain pump is active, the detergent solution is pumped out. ▶Not a fault – normal operating noise. Creasing. The spin speed is too high. ▶The next time you run a wash cycle, set a lower spin speed. The load is too large. ▶The next time you run a wash cycle, reduce the amount of laundry being loaded.\\nWUU28TA8_en-us_washing machine-42.pdf: of water and pour the mix- ture into the left-hand compartment (not for outdoor clothing, sportswear or items stuffed with down). ▶Reduce the amount of detergent for the next wash- ing cycle with the same load. High spin speed not reached.A low spin speed is selected. ▶The next time you run a wash cycle, set a higher spin speed. Unbalance load detection system is using a reduced spin speed to eliminate an unbalance. ▶Redistribute the laundry in the drum. Note:\\xa0 Where possible, mix large and small items in the drum. Different sized items of laundry distribute themselves better during the spin cycle. ▶Start the Schleudern \\xa0programme. The spin programme does not start.Drain pipe or water outlet hose is blocked. ▶Clean the drain pipe and the water outlet hose. Drain pipe or water drain hose is caught or jammed. ▶Ensure that the drain pipe and water drain hose are not kinked or trapped. The unbalanced load detection system has interrupted the spin cycle because the laundry is unevenly distrib- uted. ▶Redistribute the laundry in the drum. Note:\\xa0 Where possible, mix large and small items in the drum. Different sized items of laundry distribute themselves better during the spin cycle.'}, {'role': 'user', 'content': 'There is too much vibrations on my washer, how can I solve the problem?'}]\n",
      "\n",
      "Generated answer: To reduce vibrations and prevent the appliance from moving, you can align the appliance correctly. First, loosen the lock nuts using a WAF 17 wrench by turning it in a clockwise direction. Then, turn the appliance feet to align it and check that all appliance feet stand firmly on the ground using a spirit level. Finally, screw the lock nuts tightly against the housing using a WAF 17 wrench. Remember to hold the foot tight and not adjust its height while doing so. [WUU28TA8_en-us_washing machine-14.pdf]\n",
      "\n",
      "Chat content: To reduce vibrations and prevent the appliance from moving, you can align the appliance correctly. First, loosen the lock nuts using a WAF 17 wrench by turning it in a clockwise direction. Then, turn the appliance feet to align it and check that all appliance feet stand firmly on the ground using a spirit level. Finally, screw the lock nuts tightly against the housing using a WAF 17 wrench. Remember to hold the foot tight and not adjust its height while doing so. [WUU28TA8_en-us_washing machine-14.pdf]\n",
      "\n",
      "Message to display: {'role': 'system', 'content': 'You are a customer service assistant for BSH company, helping customers with their home appliance questions, including inquiries about purchasing new products, features, configurations, and troubleshooting.\\nStart answering thanking the user for their question. Respond in a slightly informal, and helpful tone, with a brief and clear answers. \\nAnswer ONLY with the facts listed in the list of sources below. If there isn\\'t enough information below, say you don\\'t know without referring to the sources. \\nDo not generate answers that don\\'t use the sources below and avoid to just cite the source without answering the question. \\nIf asking a clarifying question to the user would help, ask the question. \\nFor tabular information, return it as an HTML table. Do not return markdown format. \\nIf the question is not in English, answer in the language used in the question. \\nEach source has a name followed by a colon and the actual information; always include the source name for each fact you use in the response without referring to the sources. \\nFor example, if the question is \\'What is the capacity of this washing machine?\\' and one of the information sources says \\'WGB256090_EN-54.pdf: the capacity is 5kg\\', then answer with \\'The capacity is 5kg [WGB256090_EN-54.pdf]\\'. \\nIf there are multiple sources, cite each one in their own square brackets. For example, use \\'[WGB256090_EN-54.pdf][SMS8YCI03E_EN-24.pdf]\\' and not in \\'[WGB256090_EN-54.pdf, SMS8YCI03E_EN-24.pdf]\\'. \\nThe name of the source follows a special format: <model_number>_<document_language>-<page_number>.pdf. \\nYou can Use this information from source name, especially if someone is asking a question about a specific model.\\n\\n\\n\\n\\nSources:\\nWUU28TA8_en-us_washing machine-14.pdf:  ▶Secure the water outlet hose against unintentional loosening. Note:\\xa0 Observe the draining heights. The maximum draining height is 100\\xa0cm.Siphon  Secure the con- nection point with a (24–40 mm) hose clamp. Sink  Fix and secure the water outlet hose with an el- bow →\\xa0Page\\xa0 28. Plastic pipe with rubber sleeve or gully Fix and secure the water outlet hose with an el- bow →\\xa0Page\\xa0 28. 4.6\\u2000Aligning the appliance In order to reduce noise and vibra- tion and to prevent the appliance from moving, align the appliance cor- rectly. 1.Loosen the lock nuts using a WAF 17 wrench by turning it in a clock- wise direction. en\\u2003Installation and connection 162.To align the appliance, turn the ap- pliance feet. Check that the appli- ance is level using a spirit level. All appliance feet must stand firmly on the ground. 3.Screw the lock nuts tightly against the housing using a WAF 17 wrench. In doing so, hold the foot tight and do not adjust its height. 4.7\\u2000Connecting the appliance to the electricity supply Note:\\xa0 Your electrical domestic install- ation for this appliance must comply with the local legal provisions and safety regulations, and \\nWUU28TA8_en-us_washing machine-5.pdf:  ▶Do not install appliances from different manufacturers and with varying depths and widths in a washer-dryer stack. ▶Do not install a washer-dryer stack on a platform; the appli- ances may tip over. WARNING\\xa0‒\\xa0Risk of suffocation! Children may put packaging material over their heads or wrap themselves up in it and suffocate. ▶Keep packaging material away from children. ▶Do not let children play with packaging material. CAUTION\\xa0‒\\xa0Risk of injury! The appliance may vibrate or move when in use. ▶Place the appliance on a clean, even, solid surface. ▶Align the appliance using the appliance feet and a spirit level. If hoses and power cords have been laid incorrectly, this causes a tripping hazard. ▶Lay hoses and power cords in such a way that there is no risk of tripping. If the appliance is moved by holding onto protruding components, such as the appliance door, the parts may break off. ▶Do not move the appliance by holding onto protruding parts. CAUTION\\xa0‒\\xa0Risk of cutting! Touching sharp edges on the appliance may lead to cuts.\\nWUU28TA8_en-us_washing machine-41.pdf:  ▶Not a fault – no action required. Residual water is present in the com- partment   .Insert in compartment    is blocked. ▶→\\xa0\"Cleaning the detergent drawer\",  Page\\xa0 33 Vibrations and move- ment of the appliance whilst spinning.Appliance is not correctly aligned. ▶→\\xa0\"Aligning the appliance\",  Page\\xa0 15 The appliance feet are not fixed. ▶Secure the appliance feet.  →\\xa0\"Aligning the appliance\",  Page\\xa0 15 Transit bolts have not been removed. ▶→\\xa0\"Removing the transit bolts\",  Page\\xa0 13. Drum rotates, water does not flow in.Load detection is active. ▶Not a fault – no action required. Note:\\xa0 The load detection can take up to two minutes.Troubleshooting \\u2003en 43Fault Cause and troubleshooting Heavy foam build-up Detergent dosage is too high. ▶Immediate measure: Mix one tablespoon of fabric softener with 0.5 litres of water and pour the mix- ture into the left-hand compartment (not for outdoor clothing, sportswear or items stuffed with down). ▶Reduce the amount of detergent for the next wash- ing cycle with the same load.\\nWUU28TA8_en-us_washing machine-42.pdf:  Note:\\xa0 Where possible, mix large and small items in the drum. Different sized items of laundry distribute themselves better during the spin cycle. ▶Start the Schleudern \\xa0programme. Rushing, hissing noise.Water is flushed under pressure into the detergent drawer. ▶Not a fault – normal operating noise. Loud noises during the spin cycle.Appliance is not correctly aligned. ▶→\\xa0\"Aligning the appliance\",  Page\\xa0 15 The appliance feet are not fixed. ▶Secure the appliance feet.  →\\xa0\"Aligning the appliance\",  Page\\xa0 15 Transit bolts have not been removed. ▶→\\xa0\"Removing the transit bolts\",  Page\\xa0 13.en\\u2003Troubleshooting 44Fault Cause and troubleshooting Banging noises, rat- tling in the drain pump.Foreign bodies have got into the drain pump. ▶→\\xa0\"Cleaning the drain pump\",  Page\\xa0 34 Slurping, rhythmical suction noise.The drain pump is active, the detergent solution is pumped out. ▶Not a fault – normal operating noise. Creasing. The spin speed is too high. ▶The next time you run a wash cycle, set a lower spin speed. The load is too large. ▶The next time you run a wash cycle, reduce the amount of laundry being loaded.\\nWUU28TA8_en-us_washing machine-42.pdf: of water and pour the mix- ture into the left-hand compartment (not for outdoor clothing, sportswear or items stuffed with down). ▶Reduce the amount of detergent for the next wash- ing cycle with the same load. High spin speed not reached.A low spin speed is selected. ▶The next time you run a wash cycle, set a higher spin speed. Unbalance load detection system is using a reduced spin speed to eliminate an unbalance. ▶Redistribute the laundry in the drum. Note:\\xa0 Where possible, mix large and small items in the drum. Different sized items of laundry distribute themselves better during the spin cycle. ▶Start the Schleudern \\xa0programme. The spin programme does not start.Drain pipe or water outlet hose is blocked. ▶Clean the drain pipe and the water outlet hose. Drain pipe or water drain hose is caught or jammed. ▶Ensure that the drain pipe and water drain hose are not kinked or trapped. The unbalanced load detection system has interrupted the spin cycle because the laundry is unevenly distrib- uted. ▶Redistribute the laundry in the drum. Note:\\xa0 Where possible, mix large and small items in the drum. Different sized items of laundry distribute themselves better during the spin cycle.'}\n",
      "\n",
      "{'role': 'user', 'content': 'There is too much vibrations on my washer, how can I solve the problem?'}\n",
      "\n"
     ]
    }
   ],
   "source": [
    "print(\"Retrieved documents: \" + content + \"\\n\")\n",
    "\n",
    "follow_up_questions_prompt = follow_up_questions_prompt_content if overrides.get(\"suggest_followup_questions\") else \"\"\n",
    "\n",
    "print(\"Follow up questions prompt: \" + follow_up_questions_prompt + \"\\n\")\n",
    "\n",
    "# STEP 3: Generate a contextual and content specific answer using the search results and chat history\n",
    "\n",
    "# Allow client to replace the entire prompt, or to inject into the exiting prompt using >>>\n",
    "prompt_override = overrides.get(\"prompt_override\")\n",
    "if prompt_override is None:\n",
    "    system_message = system_message_chat_conversation.format(injected_prompt=\"\", follow_up_questions_prompt=follow_up_questions_prompt)\n",
    "elif prompt_override.startswith(\">>>\"):\n",
    "    system_message = system_message_chat_conversation.format(injected_prompt=prompt_override[3:] + \"\\n\", follow_up_questions_prompt=follow_up_questions_prompt)\n",
    "else:\n",
    "    system_message = prompt_override.format(follow_up_questions_prompt=follow_up_questions_prompt)\n",
    "\n",
    "messages = get_messages_from_history(\n",
    "    system_message + \"\\n\\nSources:\\n\" + content,\n",
    "    AZURE_OPENAI_CHATGPT_MODEL,\n",
    "    history,\n",
    "    history[-1][\"user\"],\n",
    "    max_tokens=chatgpt_token_limit)\n",
    "\n",
    "print(\"Message from chat history: \" + str(messages) + \"\\n\")\n",
    "\n",
    "chat_completion = await openai.ChatCompletion.acreate(\n",
    "    deployment_id=AZURE_OPENAI_CHATGPT_DEPLOYMENT,\n",
    "    model=AZURE_OPENAI_CHATGPT_MODEL,\n",
    "    messages=messages,\n",
    "    temperature=overrides.get(\"temperature\") or 0.7,\n",
    "    max_tokens=1024,\n",
    "    n=1)\n",
    "\n",
    "print(\"Generated answer: \" + chat_completion.choices[0].message.content + \"\\n\")\n",
    "\n",
    "chat_content = chat_completion.choices[0].message.content\n",
    "\n",
    "print(\"Chat content: \" + chat_content + \"\\n\")\n",
    "\n",
    "msg_to_display = '\\n\\n'.join([str(message) for message in messages])\n",
    "\n",
    "print(\"Message to display: \" + msg_to_display + \"\\n\")"
   ]
  },
  {
   "cell_type": "code",
   "execution_count": 32,
   "metadata": {},
   "outputs": [
    {
     "name": "stdout",
     "output_type": "stream",
     "text": [
      "To reduce vibrations and prevent the appliance from moving, you can align the appliance correctly. First, loosen the lock nuts using a WAF 17 wrench by turning it in a clockwise direction. Then, turn the appliance feet to align it and check that all appliance feet stand firmly on the ground using a spirit level. Finally, screw the lock nuts tightly against the housing using a WAF 17 wrench. Remember to hold the foot tight and not adjust its height while doing so. [WUU28TA8_en-us_washing machine-14.pdf]\n"
     ]
    }
   ],
   "source": [
    "print(chat_content)"
   ]
  },
  {
   "cell_type": "code",
   "execution_count": null,
   "metadata": {},
   "outputs": [],
   "source": []
  },
  {
   "cell_type": "code",
   "execution_count": null,
   "metadata": {},
   "outputs": [],
   "source": []
  },
  {
   "cell_type": "code",
   "execution_count": 3,
   "metadata": {},
   "outputs": [],
   "source": [
    "import sys \n",
    "sys.path.append('../app/backend')\n",
    "from approaches.chatreadretrieveread import ChatReadRetrieveReadApproach"
   ]
  },
  {
   "cell_type": "code",
   "execution_count": 4,
   "metadata": {},
   "outputs": [],
   "source": [
    "chat = ChatReadRetrieveReadApproach(search_client, \n",
    "                                        AZURE_OPENAI_CHATGPT_DEPLOYMENT,\n",
    "                                        AZURE_OPENAI_CHATGPT_MODEL, \n",
    "                                        AZURE_OPENAI_EMB_DEPLOYMENT,\n",
    "                                        KB_FIELDS_SOURCEPAGE, \n",
    "                                        KB_FIELDS_CONTENT)"
   ]
  },
  {
   "cell_type": "code",
   "execution_count": 5,
   "metadata": {},
   "outputs": [],
   "source": [
    "request = {'history': [{'user': 'Could you provide some insights on what I can consider for asset tracking?'}],\n",
    "  'approach': 'rrr', 'overrides': \n",
    "  {'retrieval_mode': 'hybrid', 'semantic_ranker': True, 'semantic_captions': False, 'top': 5, 'suggest_followup_questions': False}}"
   ]
  },
  {
   "cell_type": "code",
   "execution_count": 6,
   "metadata": {},
   "outputs": [],
   "source": [
    "overrides = request[\"overrides\"]\n",
    "history = request[\"history\"]"
   ]
  },
  {
   "cell_type": "code",
   "execution_count": 7,
   "metadata": {},
   "outputs": [],
   "source": [
    "r = chat.run(request[\"history\"], request.get(\"overrides\") or {})"
   ]
  },
  {
   "cell_type": "code",
   "execution_count": 8,
   "metadata": {},
   "outputs": [
    {
     "ename": "TypeError",
     "evalue": "'coroutine' object is not subscriptable",
     "output_type": "error",
     "traceback": [
      "\u001b[1;31m---------------------------------------------------------------------------\u001b[0m",
      "\u001b[1;31mTypeError\u001b[0m                                 Traceback (most recent call last)",
      "Cell \u001b[1;32mIn[8], line 1\u001b[0m\n\u001b[1;32m----> 1\u001b[0m \u001b[39mprint\u001b[39m(r[\u001b[39m\"\u001b[39;49m\u001b[39manswer\u001b[39;49m\u001b[39m\"\u001b[39;49m])\n",
      "\u001b[1;31mTypeError\u001b[0m: 'coroutine' object is not subscriptable"
     ]
    }
   ],
   "source": [
    "print(r[\"answer\"])"
   ]
  },
  {
   "cell_type": "code",
   "execution_count": null,
   "metadata": {},
   "outputs": [],
   "source": []
  }
 ],
 "metadata": {
  "kernelspec": {
   "display_name": "Python 3",
   "language": "python",
   "name": "python3"
  },
  "language_info": {
   "codemirror_mode": {
    "name": "ipython",
    "version": 3
   },
   "file_extension": ".py",
   "mimetype": "text/x-python",
   "name": "python",
   "nbconvert_exporter": "python",
   "pygments_lexer": "ipython3",
   "version": "3.11.4"
  },
  "orig_nbformat": 4,
  "vscode": {
   "interpreter": {
    "hash": "c40b9fc8dfc687e53ddb074d322e19207ef9cf3db51c580aef67976913dea803"
   }
  }
 },
 "nbformat": 4,
 "nbformat_minor": 2
}
