{
 "cells": [
  {
   "cell_type": "code",
   "execution_count": 1,
   "metadata": {},
   "outputs": [],
   "source": [
    "import os\n",
    "import openai\n",
    "from azure.core.credentials import AzureKeyCredential\n",
    "from azure.search.documents.aio import SearchClient\n",
    "from azure.search.documents.models import QueryType, Vector\n",
    "from dotenv import load_dotenv\n",
    "import json\n",
    "import re\n",
    "\n",
    "import sys\n",
    "sys.path.append('../app/backend')\n",
    "from core.modelhelper import get_token_limit\n",
    "from core.messagebuilder import MessageBuilder\n",
    "from core.language_detector import detect_language\n",
    "from text import nonewlines\n",
    "\n",
    "with open('../.azure/config.json', 'r') as config_file:\n",
    "    config_data = json.load(config_file)\n",
    "dotenv_path = f'../.azure/{config_data[\"defaultEnvironment\"]}/.env'\n",
    "load_dotenv(dotenv_path) # Load environment variables from .env file\n",
    "\n",
    "# Replace these with your own values, either in environment variables or directly here\n",
    "AZURE_STORAGE_ACCOUNT = os.environ.get(\"AZURE_STORAGE_ACCOUNT\") \n",
    "AZURE_STORAGE_CONTAINER = os.environ.get(\"AZURE_STORAGE_CONTAINER\") \n",
    "AZURE_SEARCH_SERVICE = os.environ.get(\"AZURE_SEARCH_SERVICE\")\n",
    "AZURE_SEARCH_INDEX = os.environ.get(\"AZURE_SEARCH_INDEX\") \n",
    "AZURE_OPENAI_SERVICE = os.environ.get(\"AZURE_OPENAI_SERVICE\") \n",
    "AZURE_OPENAI_GPT_DEPLOYMENT = os.environ.get(\"AZURE_OPENAI_GPT_DEPLOYMENT\") \n",
    "AZURE_OPENAI_CHATGPT_DEPLOYMENT = os.environ.get(\"AZURE_OPENAI_CHATGPT_DEPLOYMENT\")\n",
    "AZURE_OPENAI_EMB_DEPLOYMENT = os.environ.get(\"AZURE_OPENAI_EMB_DEPLOYMENT\")\n",
    "AZURE_OPENAI_CHATGPT_MODEL = os.environ.get(\"AZURE_OPENAI_CHATGPT_MODEL\")\n",
    "\n",
    "KB_FIELDS_CONTENT = \"content\"\n",
    "KB_FIELDS_CATEGORY = \"category\"\n",
    "KB_FIELDS_SOURCEPAGE = \"sourcepage\"\n",
    "\n",
    "# Use the current user identity to authenticate with Azure OpenAI, Cognitive Search and Blob Storage (no secrets needed, \n",
    "# just use 'az login' locally, and managed identity when deployed on Azure). If you need to use keys, use separate AzureKeyCredential instances with the \n",
    "# keys for each service\n",
    "\n",
    "# Used by the OpenAI SDK\n",
    "openai.api_type = \"azure\"\n",
    "openai.api_base = f\"https://{AZURE_OPENAI_SERVICE}.openai.azure.com\"\n",
    "openai.api_version = \"2023-05-15\"\n",
    "\n",
    "\"# Comment these two lines out if using keys, set your API key in the OPENAI_API_KEY environment variable and set openai.api_type = \\\"azure\\\" instead\\n\"\n",
    "#openai.api_type = \"azure_ad\"\n",
    "openai.api_key = os.environ.get(\"OPENAI_API_KEY\")#azure_credential.get_token(\"https://cognitiveservices.azure.com/.default\").token\n",
    "\n",
    "# Set up clients for Cognitive Search and Storage\n",
    "admin_key = os.environ.get(\"AZURE_COGNITIVE_SEARCH_KEY\")\n",
    "\n",
    "search_client = SearchClient(\n",
    "    endpoint= os.environ.get(\"AZURE_COGNITIVE_SEARCH_ENDPOINT\"),\n",
    "    index_name=AZURE_SEARCH_INDEX,\n",
    "    credential=AzureKeyCredential(admin_key))"
   ]
  },
  {
   "cell_type": "code",
   "execution_count": null,
   "metadata": {},
   "outputs": [],
   "source": []
  },
  {
   "cell_type": "code",
   "execution_count": 2,
   "metadata": {},
   "outputs": [],
   "source": [
    "import sys \n",
    "sys.path.append('../app/backend')\n",
    "from approaches.chatreadretrieveread import ChatReadRetrieveReadApproach"
   ]
  },
  {
   "cell_type": "code",
   "execution_count": 3,
   "metadata": {},
   "outputs": [],
   "source": [
    "chat = ChatReadRetrieveReadApproach(search_client, \n",
    "                                        AZURE_OPENAI_CHATGPT_DEPLOYMENT,\n",
    "                                        \"gpt-35-turbo\", \n",
    "                                        AZURE_OPENAI_EMB_DEPLOYMENT,\n",
    "                                        \"sourcepage\", \n",
    "                                        \"content\")"
   ]
  },
  {
   "cell_type": "code",
   "execution_count": 27,
   "metadata": {},
   "outputs": [],
   "source": [
    "request = {'history': [{'user': \"How to activate parental control? WUU28TA8\"}],\n",
    "  'approach': 'rrr', 'overrides': \n",
    "  {'retrieval_mode': 'hybrid', 'semantic_ranker': True, 'semantic_captions': False, 'top': 5, 'suggest_followup_questions': False}}\n"
   ]
  },
  {
   "cell_type": "code",
   "execution_count": 28,
   "metadata": {},
   "outputs": [],
   "source": [
    "overrides = request[\"overrides\"]\n",
    "history = request[\"history\"]"
   ]
  },
  {
   "cell_type": "code",
   "execution_count": 29,
   "metadata": {},
   "outputs": [
    {
     "name": "stdout",
     "output_type": "stream",
     "text": [
      "prompt for query generation: Generate search query for: How to activate parental control? WUU28TA8\n",
      "\n",
      "Message from chat history for product filter generation: [{'role': 'system', 'content': 'Based on the entire conversation history below:\\nYou have two task.\\n1: Accurately identify the product id.\\nEven if it\\'s from previous messages in the conversation. \\nIf there are multiple product ids, return the most recent one.\\nEnsure that the last question is still referring to the correct product id.\\nProduct ids are made of alpha-numeric characters like \"SMS6TCI00E\", \"WUU28TA8\". \\nIf the product ID isn\\'t clear or not mentioned, try to understand if the question is about a dish-washer or a washing machine. \\nIf it\\'s impossible to determine return \"unknown\".\\n\\n2: Understand if the last user question is about a washing-machine or a dish-washer.\\nIf it\\'s impossible to determine return \"unknown\". Only possible values are \"WASHING MACHINE\", \"DISH WASHER\" and \"unknown\".\\n\\nEnsure you return the the two answers separated by a comma without spaces: e.g., \\'SMD6TCX00E,WASHING MACHINE\\', \\'WUU28TA8,DISH WASHER\\', \\'unknown,WASHING MACHINE\\', \\'unknown,DISH WASHER\\'.\\n'}, {'role': 'user', 'content': 'Gibt es Wifi auf meine Waschmachine mit produkt nummer WGB256090?'}, {'role': 'assistant', 'content': 'WGB256090,WASHING MACHINE'}, {'role': 'user', 'content': 'what are the available programms for washing machine I mentioned?'}, {'role': 'assistant', 'content': 'WGB256090,WASHING MACHINE'}, {'role': 'user', 'content': 'how to load a washing machine?'}, {'role': 'assistant', 'content': 'unknown,WASHING MACHINE'}, {'role': 'user', 'content': 'what are the dimentions for the dish washer: SMD6TCX00E?'}, {'role': 'assistant', 'content': 'SMD6TCX00E,DISH WASHER'}, {'role': 'user', 'content': 'Detect only the product id for: How to activate parental control? WUU28TA8'}]\n",
      "Generated product: WUU28TA8,WASHING MACHINE\n",
      "\n",
      "Generated language: language eq 'en-us'\n",
      "\n",
      "Message from chat history for query generation: [{'role': 'system', 'content': \"Below is a history of the conversation so far, and a new question asked by the user that needs to be answered by searching in a knowledge base about BSH company's home appliances, including buying guides, features, configurations, and troubleshooting.\\nGenerate a search query based on the conversation and the new question. \\nEnsure that the search query is in the same language as the new question.\\nIf the question is not in English, answer in the language used in the question.\\nDo not include cited source filenames and document names e.g info.txt or doc.pdf in the search query terms.\\nDo not include any text inside [] or <<>> in the search query terms.\\nDo not include any special characters like '+'.\\nIf you cannot generate a search query, return just the number 0.\\nReturn the query enclosed in the quotes for e.g., 'washing machine installation procedure'\\n\"}, {'role': 'user', 'content': 'how to load the washing machine?'}, {'role': 'assistant', 'content': 'Show the procedure to load a washing machine'}, {'role': 'user', 'content': 'Does my washing machine has wifi?'}, {'role': 'assistant', 'content': 'Check for the wifi feature on the specified washing machine'}, {'role': 'user', 'content': 'Generate search query for: How to activate parental control? WUU28TA8'}]\n",
      "\n",
      "Generated query: \"Activating parental control on BSH WUU28TA8 washing machine\"\n",
      "Final filter language eq 'en-us' and product_id eq 'WUU28TA8'\n",
      "Message from chat history for answer generation: [{'role': 'system', 'content': '\"You are the customer service assistant for BSH, tasked with helping customers with their home appliance inquiries, including purchasing new products, features, configurations, and troubleshooting. Your role is to provide friendly and concise responses while ensuring customer satisfaction.\\n\\nHere\\'s a step-by-step guide on how to assist users effectively:\\n\\nStep 1: Always start by thanking the user for their question. Maintain a slightly informal, helpful tone throughout your responses.\\n\\nStep 2: Use only the information available in the list of sources provided below to answer the user\\'s question. If the question is unrelated to BSH products, inform the user that you cannot provide answers for those queries. If the sources do not contain sufficient information, state that you do not have the necessary details.\\n\\nStep 3: Only generate responses based on the following sources provided; do not create answers from unknown sources. If you cannot find the answer, state that you do not have the necessary details.\\nProvide detailed answers, avoiding simple source citations without addressing the user\\'s question. You can repeat what\\'s inside the source.\\nKeep your answers brief and clear and human-readable. You should use bullet points if this could help.\\nDo not direct the user to product manuals or catalogs; aim to answer the question directly.\\nIf you need additional information to assist the user, feel free to ask clarifying questions.\\nRespond in the language used by the user in their question.\\nFor tabular information, return it as an HTML table. Do not return markdown format. \\n\\nStep 4: Remember to cite the exact source name when providing information in square brakets. Each source has a name followed by a colon and the actual information contained within the source.\\nAlways include the source name for each fact you use in the response. \\nFor example, if the question is \\'What is the capacity of this washing machine?\\' and one of the information sources says \\'WGB256090_en-us_dishwasher_product-manual-3.pdf: the capacity is 5kg\\', then answer with \\'The capacity is 5kg [WGB256090_en-us_dishwasher_product-manual-3.pdf]\\'. \\nCite the only the source names that are provided to you and do not mention sources that are not known to you.\\nCite the exact name of the source as provided to you and do not change the source name.\\nIf there are multiple sources, cite each one in their own square brackets. For example, use \\'[WGB256090_en-us_dishwasher_prodcut-manual-54.pdf][SMS8YCI03E_en-us_dishwasher_product-manual-12.pdf]\\' and not in \\'[WGB256090_en-us_dishwasher_product-manual-54.pdf, SMS8YCI03E_en-us_dishwasher_manual-12.pdf]\\'.\\n\\n\\n\\n\\n\\nSources:\\nWUU28TA8_en-us_washing-machine_product-manual-3.pdf:  1.2 Intended use Only use this appliance: ¡ For washing machine-washable fabrics and hand-washable wool in accordance with the care label. ¡ With tap water and commercially available detergents and care products suitable for washing machines. ¡ In private households and in enclosed spaces in a domestic en- vironment. ¡ Up to an altitude of max. 4000 m above sea level. 1.3 Restriction on user group This appliance may be used by children aged 8 or over and by people who have reduced physical, sensory or mental abilities or inadequate experience and/or knowledge, provided that they are supervised or have been instructed on how to use the appliance safely and have understood the resulting dangers. Do not let children play with the appliance. Cleaning and user maintenance must not be performed by chil- dren unless they are being supervised. Keep children under the age of 3 years and pets away from the appliance. 4 :selected: Safety en 1.4 Safe installation Take note of the safety instructions when installing the appliance.  --- Meta Information --- Product id: WUU28TA8 Language: en-us Product type: WASHING MACHINE Document type: PRODUCT MANUAL\\nWUU28TA8_en-us_washing-machine_product-manual-22.pdf:  If - - - - is selected, the water is not drained at the end of the washing cycle and the spin cycle is deactiv- ated. The laundry remains in the rins- ing water.</td></tr><tr><td>8 3 Sek. (Child Lock 3 sec.)</td><td>¡ Activate ¡ Deactivate</td><td>→ &quot;Childproof lock&quot;, Page 32</td></tr><tr><td>Vorwäsche (Pre- wash)</td><td>¡ Activate ¡ Deactivate</td><td>Activate or deactivate prewash, e.g. for washing heavily soiled laundry.</td></tr><tr><td>Spülen Plus (Rinse Plus)</td><td>¡ Activate ¡ Deactivate</td><td>Activate or deactivate a washing pro- gramme with more water and an addi- tional rinse cycle. Recommended for particularly sensit- ive skin or in regions with very soft water.</td></tr></table> 23 Programmes en 9 Programmes Note: The laundry\\'s care labels provide you with additional information on pro- gramme selection. <table><tr><th>Programme</th><th>Description</th><th>Max. load (kg)</th></tr><tr><td>Baumwolle (Cottons)</td><td>Wash hard-wearing items made from cotton, linen or blended fabrics. Also suitable as a short programme for normally soiled laundry when you activate SpeedPerfect .  --- Meta Information --- Product id: WUU28TA8 Language: en-us Product type: WASHING MACHINE Document type: PRODUCT MANUAL\\nWUU28TA8_en-us_washing-machine_product-manual-0.pdf: BOSCH Register your new device on MyBosch now and get free benefits: bosch-home.com/ welcome + MyBosch Washing machine WUU28TA8 [en] User manual and installation instructions en Futher information and explanations are available online: Table of contents <table><tr><th>1 Safety............................................ 4</th><th>7 Display........................................</th><th>20</th></tr><tr><td>1.1 General information.................... 4 1.2 Intended use............................... 4</td><td>8 Buttons .......................................</td><td>23</td></tr><tr><td>1.3 Restriction on user group........... 4</td><td>9 Programmes...............................</td><td>24</td></tr><tr><td rowSpan=2>1.4 Safe installation .......................... 5 1.5 Safe use ..................................... 7</td><td rowSpan=2>10 Accessories..............................</td><td rowSpan=2>28</td></tr><tr></tr><tr><td>1.6 Safe cleaning and mainten- ance...........................  --- Meta Information --- Product id: WUU28TA8 Language: en-us Product type: WASHING MACHINE Document type: PRODUCT MANUAL\\nWUU28TA8_en-us_washing-machine_product-manual-0.pdf: com/ welcome + MyBosch Washing machine WUU28TA8 [en] User manual and installation instructions en Futher information and explanations are available online: Table of contents <table><tr><th>1 Safety............................................ 4</th><th>7 Display........................................</th><th>20</th></tr><tr><td>1.1 General information.................... 4 1.2 Intended use............................... 4</td><td>8 Buttons .......................................</td><td>23</td></tr><tr><td>1.3 Restriction on user group........... 4</td><td>9 Programmes...............................</td><td>24</td></tr><tr><td rowSpan=2>1.4 Safe installation .......................... 5 1.5 Safe use ..................................... 7</td><td rowSpan=2>10 Accessories..............................</td><td rowSpan=2>28</td></tr><tr></tr><tr><td>1.6 Safe cleaning and mainten- ance............................................ 9</td><td>11 Laundry..................................... 11.1 Preparing the laundry.............</td><td>28 28</td></tr><tr><td>2 Preventing material damage ..... 10</td><td rowSpan=3>12 Detergents and care products ...................  --- Meta Information --- Product id: WUU28TA8 Language: en-us Product type: WASHING MACHINE Document type: PRODUCT MANUAL\\nWUU28TA8_en-us_washing-machine_product-manual-31.pdf:  Wipe the rubber gasket dry and re- move any foreign objects. 3. Leave the appliance door and de- tergent drawer open so that resid- ual water can evaporate. 14 Childproof lock Secure your appliance against being operated unintentionally using the controls. 14.1 Activating the childproof lock ▶ Press and hold the two 8 3 Sek. buttons for approx. 3 seconds. a The display shows 8 . a The controls are locked. a The childproof lock remains active even after the appliance has been switched off and in the event of a power failure. 14.2 Deactivating the child- proof lock Requirement: To deactivate the childproof lock, the appliance must be switched on. :selected: :unselected: :selected: :selected: :selected: :unselected: :unselected: :unselected: Basic settings ▶ Press and hold the two 8 3 Sek. buttons for approx. 3 seconds. 8 goes out in the display. a 15 Basic settings You can configure the basic settings for your appliance to meet your needs. en ▶ Run the Trommel reinigen pro- gramme without laundry and using all-purpose washing powder. 16.2 Cleaning the detergent drawer 1.  --- Meta Information --- Product id: WUU28TA8 Language: en-us Product type: WASHING MACHINE Document type: PRODUCT MANUAL'}, {'role': 'user', 'content': 'How to activate parental control? WUU28TA8'}]\n",
      "\n",
      "Generated answer: To activate parental control on the WUU28TA8 washing machine, press and hold the two 8 3 Sek. buttons for approximately 3 seconds [WUU28TA8_en-us_washing-machine_product-manual-22.pdf]. The display will show 8, indicating that the controls are locked. The childproof lock remains active even after the appliance has been switched off and in the event of a power failure [WUU28TA8_en-us_washing-machine_product-manual-31.pdf].\n"
     ]
    },
    {
     "data": {
      "text/plain": [
       "('To activate parental control on the WUU28TA8 washing machine, press and hold the two 8 3 Sek. buttons for approximately 3 seconds [WUU28TA8_en-us_washing-machine_product-manual-22.pdf]. The display will show 8, indicating that the controls are locked. The childproof lock remains active even after the appliance has been switched off and in the event of a power failure [WUU28TA8_en-us_washing-machine_product-manual-31.pdf].',\n",
       " ['WUU28TA8_en-us_washing-machine_product-manual-3.pdf:  1.2 Intended use Only use this appliance: ¡ For washing machine-washable fabrics and hand-washable wool in accordance with the care label. ¡ With tap water and commercially available detergents and care products suitable for washing machines. ¡ In private households and in enclosed spaces in a domestic en- vironment. ¡ Up to an altitude of max. 4000 m above sea level. 1.3 Restriction on user group This appliance may be used by children aged 8 or over and by people who have reduced physical, sensory or mental abilities or inadequate experience and/or knowledge, provided that they are supervised or have been instructed on how to use the appliance safely and have understood the resulting dangers. Do not let children play with the appliance. Cleaning and user maintenance must not be performed by chil- dren unless they are being supervised. Keep children under the age of 3 years and pets away from the appliance. 4 :selected: Safety en 1.4 Safe installation Take note of the safety instructions when installing the appliance.  --- Meta Information --- Product id: WUU28TA8 Language: en-us Product type: WASHING MACHINE Document type: PRODUCT MANUAL',\n",
       "  \"WUU28TA8_en-us_washing-machine_product-manual-22.pdf:  If - - - - is selected, the water is not drained at the end of the washing cycle and the spin cycle is deactiv- ated. The laundry remains in the rins- ing water.</td></tr><tr><td>8 3 Sek. (Child Lock 3 sec.)</td><td>¡ Activate ¡ Deactivate</td><td>→ &quot;Childproof lock&quot;, Page 32</td></tr><tr><td>Vorwäsche (Pre- wash)</td><td>¡ Activate ¡ Deactivate</td><td>Activate or deactivate prewash, e.g. for washing heavily soiled laundry.</td></tr><tr><td>Spülen Plus (Rinse Plus)</td><td>¡ Activate ¡ Deactivate</td><td>Activate or deactivate a washing pro- gramme with more water and an addi- tional rinse cycle. Recommended for particularly sensit- ive skin or in regions with very soft water.</td></tr></table> 23 Programmes en 9 Programmes Note: The laundry's care labels provide you with additional information on pro- gramme selection. <table><tr><th>Programme</th><th>Description</th><th>Max. load (kg)</th></tr><tr><td>Baumwolle (Cottons)</td><td>Wash hard-wearing items made from cotton, linen or blended fabrics. Also suitable as a short programme for normally soiled laundry when you activate SpeedPerfect .  --- Meta Information --- Product id: WUU28TA8 Language: en-us Product type: WASHING MACHINE Document type: PRODUCT MANUAL\",\n",
       "  'WUU28TA8_en-us_washing-machine_product-manual-0.pdf: BOSCH Register your new device on MyBosch now and get free benefits: bosch-home.com/ welcome + MyBosch Washing machine WUU28TA8 [en] User manual and installation instructions en Futher information and explanations are available online: Table of contents <table><tr><th>1 Safety............................................ 4</th><th>7 Display........................................</th><th>20</th></tr><tr><td>1.1 General information.................... 4 1.2 Intended use............................... 4</td><td>8 Buttons .......................................</td><td>23</td></tr><tr><td>1.3 Restriction on user group........... 4</td><td>9 Programmes...............................</td><td>24</td></tr><tr><td rowSpan=2>1.4 Safe installation .......................... 5 1.5 Safe use ..................................... 7</td><td rowSpan=2>10 Accessories..............................</td><td rowSpan=2>28</td></tr><tr></tr><tr><td>1.6 Safe cleaning and mainten- ance...........................  --- Meta Information --- Product id: WUU28TA8 Language: en-us Product type: WASHING MACHINE Document type: PRODUCT MANUAL',\n",
       "  'WUU28TA8_en-us_washing-machine_product-manual-0.pdf: com/ welcome + MyBosch Washing machine WUU28TA8 [en] User manual and installation instructions en Futher information and explanations are available online: Table of contents <table><tr><th>1 Safety............................................ 4</th><th>7 Display........................................</th><th>20</th></tr><tr><td>1.1 General information.................... 4 1.2 Intended use............................... 4</td><td>8 Buttons .......................................</td><td>23</td></tr><tr><td>1.3 Restriction on user group........... 4</td><td>9 Programmes...............................</td><td>24</td></tr><tr><td rowSpan=2>1.4 Safe installation .......................... 5 1.5 Safe use ..................................... 7</td><td rowSpan=2>10 Accessories..............................</td><td rowSpan=2>28</td></tr><tr></tr><tr><td>1.6 Safe cleaning and mainten- ance............................................ 9</td><td>11 Laundry..................................... 11.1 Preparing the laundry.............</td><td>28 28</td></tr><tr><td>2 Preventing material damage ..... 10</td><td rowSpan=3>12 Detergents and care products ...................  --- Meta Information --- Product id: WUU28TA8 Language: en-us Product type: WASHING MACHINE Document type: PRODUCT MANUAL',\n",
       "  'WUU28TA8_en-us_washing-machine_product-manual-31.pdf:  Wipe the rubber gasket dry and re- move any foreign objects. 3. Leave the appliance door and de- tergent drawer open so that resid- ual water can evaporate. 14 Childproof lock Secure your appliance against being operated unintentionally using the controls. 14.1 Activating the childproof lock ▶ Press and hold the two 8 3 Sek. buttons for approx. 3 seconds. a The display shows 8 . a The controls are locked. a The childproof lock remains active even after the appliance has been switched off and in the event of a power failure. 14.2 Deactivating the child- proof lock Requirement: To deactivate the childproof lock, the appliance must be switched on. :selected: :unselected: :selected: :selected: :selected: :unselected: :unselected: :unselected: Basic settings ▶ Press and hold the two 8 3 Sek. buttons for approx. 3 seconds. 8 goes out in the display. a 15 Basic settings You can configure the basic settings for your appliance to meet your needs. en ▶ Run the Trommel reinigen pro- gramme without laundry and using all-purpose washing powder. 16.2 Cleaning the detergent drawer 1.  --- Meta Information --- Product id: WUU28TA8 Language: en-us Product type: WASHING MACHINE Document type: PRODUCT MANUAL'])"
      ]
     },
     "execution_count": 29,
     "metadata": {},
     "output_type": "execute_result"
    }
   ],
   "source": [
    "r = await chat.run(request[\"history\"], request.get(\"overrides\") or {})\n",
    "r[\"answer\"], r[\"data_points\"]"
   ]
  },
  {
   "cell_type": "code",
   "execution_count": 22,
   "metadata": {},
   "outputs": [
    {
     "data": {
      "text/plain": [
       "[\"WUU28TA8_en-us_washing-machine_product-manual-11.pdf: 3 Requirements for the in- stallation location WARNING Risk of electric shock! The appliance contains live parts. Touching live parts is dangerous. ▶ Do not operate the appliance without a cover cap. WARNING Risk of injury! When using the appliance on a base, the appliance may tip over. ▶ Always secure the feet of the appli- ance to a base using the manufac- turer's fixing brackets → Page 28 before using the appliance for the first time. Installation and connection ATTENTION! If residual water in the appliance freezes, this may cause damage to the appliance. ▶ Do not install or operate this appli- ance anywhere that is liable to ex- perience frost or outdoors. If the appliance is tilted at an angle greater than 40°, residual water may leak out of the appliance and cause material damage. ▶ Tilt the appliance carefully. ▶ Transport the appliance in an up- right position. Installation loca- Requirements tion Base Secure the appli- ance with fixing brackets → Page 28. Wooden joist floor Place the appli- ance on a water- resistant wooden board (minimum thickness of 30 mm) which is screwed tightly to the floor.  --- Meta Information --- Product id: WUU28TA8 Language: en-us Product type: WASHING MACHINE Document type: PRODUCT MANUAL\",\n",
       " 'WUU28TA8_en-us_washing-machine_product-manual-9.pdf:  ▶ Follow the dosage recommenda- tions from the manufacturer. Exceeding the maximum load capa- city impairs the function of the appli- ance. ▶ Observe the maximum load capa- city for each programme and do not exceed it. → \"Programmes\", Page 24 The appliance is secured for trans- portation using transit bolts. Transit bolts which have not been removed may result in material damage and damage to the appliance. ▶ Before starting up the appliance, remove the transit bolts completely and keep them in a safe place. ▶ Before transport, fit the transit bolts fully in order to prevent damage in transit. Material damage may be caused if the water inlet hose is connected in- correctly. ▶ Tighten the screw connections on the water inlet until they are hand- tight. ▶ Ideally, connect the water inlet hose directly to the water tap, without any additional connecting elements such as adapters, exten- sions, valves or similar. 10 ▶ Make sure that the valve housing for the water inlet hose does not come into contact with its sur- roundings and is not subjected to any external forces.  --- Meta Information --- Product id: WUU28TA8 Language: en-us Product type: WASHING MACHINE Document type: PRODUCT MANUAL',\n",
       " 'WUU28TA8_en-us_washing-machine_product-manual-37.pdf: </td></tr><tr><td>The filter in the water inflow is blocked. ▶ Clean the water inflow filter.</td></tr><tr><td>The tap is turned off. ▶ Turn on the tap.</td></tr><tr><td>The water inlet hose is kinked or jammed. ▶ Ensure that the water inlet hose is not kinked or jammed.</td></tr><tr><td>Water level measurement system is defective. ▶ Call the after-sales service. → &quot;Customer Service&quot;, Page 47</td></tr><tr><td rowSpan=3>&quot;E:35 / -10&quot;</td><td rowSpan=2>There is water in the base trough. ▶ Turn off the water tap. ▶ Call the after-sales service. → &quot;Customer Service&quot;, Page 47</td></tr><tr></tr><tr><td>The appliance is leaking. ▶ Turn off the water tap. ▶ Call the after-sales service. → &quot;Customer Service&quot;, Page 47</td></tr><tr><td rowSpan=2>Voltage under-usage symbol (double point).</td><td>The automatic voltage control system detects an un- authorised voltage under-usage. ▶ No remedial action possible.</td></tr><tr><td>Note: If the power supply is stable, the programme continues to run as normal.</td></tr></table> 38 Troubleshooting en <table><tr><th>Fault</th><th>Cause and   --- Meta Information --- Product id: WUU28TA8 Language: en-us Product type: WASHING MACHINE Document type: PRODUCT MANUAL',\n",
       " 'WUU28TA8_en-us_washing-machine_product-manual-13.pdf:  Put on the 4 cover caps. 6. Press down on the 4 cover caps. 3. Remove the power cable from the holder. 14 Installation and connection 4.5 Connecting the appliance Connecting the water inlet hose WARNING Risk of electric shock! The appliance contains live parts. Touching live parts is dangerous. ▶ Do not immerse the electrical AquaStop valve in water. 1. Connect the water inlet hose to a tap (26.4 mm = 3/4\"). 3/4\" \" 4 min. 10 mm min. 17 mm 2. Open the water tap carefully and check that the connection points are tight. Water outlet connection types This information is intended to help you to connect this appliance to the water outlet. ATTENTION! When draining, the water outlet hose is subject to water pressure and may come loose from the installed con- nection point. ▶ Secure the water outlet hose against unintentional loosening. Note: Observe the draining heights. The maximum draining height is 100 cm. en Secure the con- nection point with a (24–40 mm) hose clamp. Sink Plastic pipe with rubber sleeve or gully Fix and secure the water outlet hose with an el- bow → Page 28.  --- Meta Information --- Product id: WUU28TA8 Language: en-us Product type: WASHING MACHINE Document type: PRODUCT MANUAL',\n",
       " 'WUU28TA8_en-us_washing-machine_product-manual-35.pdf:  Before the next wash To prevent unused detergent from flowing straight into the outlet in the next wash, run the Abpumpen pro- gramme after you have emptied the drain pump. 1. Turn on the water tap. 2. Insert the mains plug. 3. Switch on the appliance. 4. Pour 1 litre of water into compart- ment II. 5. Select a suitable programme for draining. → \"Programmes\", Page 24 Troubleshooting en 17 Troubleshooting You can rectify minor faults on your appliance yourself. Read the troubleshoot- ing information before contacting after-sales service. This will avoid unneces- sary costs. Risk of electric shock! Incorrect repairs are dangerous. ▶ Repairs to the appliance should only be carried out by trained specialist staff. ▶ Only use genuine spare parts when repairing the appliance. ▶ If the power cord of this appliance is damaged, it must be replaced by the manufacturer, the manufacturer\\'s Customer Service or a similarly qualified person in order to prevent any risk. <table><tr><th>Fault</th><th>Cause and troubleshooting</th></tr><tr><td>The display goes out and Start/Nachlegen/ Pause flashes.  --- Meta Information --- Product id: WUU28TA8 Language: en-us Product type: WASHING MACHINE Document type: PRODUCT MANUAL']"
      ]
     },
     "execution_count": 22,
     "metadata": {},
     "output_type": "execute_result"
    }
   ],
   "source": [
    "r[\"data_points\"]"
   ]
  },
  {
   "cell_type": "code",
   "execution_count": 23,
   "metadata": {},
   "outputs": [
    {
     "name": "stdout",
     "output_type": "stream",
     "text": [
      "There could be several reasons for water inside your WUU28TA8 washing machine [WUU28TA8_en-us_washing-machine_product-manual-37.pdf]:\n",
      "- The filter in the water inflow is blocked: Clean the water inflow filter.\n",
      "- The tap is turned off: Turn on the tap.\n",
      "- The water inlet hose is kinked or jammed: Ensure that the water inlet hose is not kinked or jammed.\n",
      "- Water level measurement system is defective: Call the after-sales service.\n",
      "- E:35 / -10: There is water in the base trough: Turn off the water tap and call after-sales service.\n"
     ]
    }
   ],
   "source": [
    "print(r[\"answer\"])"
   ]
  },
  {
   "cell_type": "code",
   "execution_count": null,
   "metadata": {},
   "outputs": [],
   "source": []
  },
  {
   "cell_type": "code",
   "execution_count": null,
   "metadata": {},
   "outputs": [],
   "source": []
  },
  {
   "cell_type": "code",
   "execution_count": null,
   "metadata": {},
   "outputs": [],
   "source": []
  }
 ],
 "metadata": {
  "kernelspec": {
   "display_name": "Python 3",
   "language": "python",
   "name": "python3"
  },
  "language_info": {
   "codemirror_mode": {
    "name": "ipython",
    "version": 3
   },
   "file_extension": ".py",
   "mimetype": "text/x-python",
   "name": "python",
   "nbconvert_exporter": "python",
   "pygments_lexer": "ipython3",
   "version": "3.11.5"
  },
  "orig_nbformat": 4,
  "vscode": {
   "interpreter": {
    "hash": "c40b9fc8dfc687e53ddb074d322e19207ef9cf3db51c580aef67976913dea803"
   }
  }
 },
 "nbformat": 4,
 "nbformat_minor": 2
}
