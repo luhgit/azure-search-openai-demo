{
 "cells": [
  {
   "cell_type": "code",
   "execution_count": 10,
   "metadata": {},
   "outputs": [],
   "source": [
    "import os\n",
    "import openai\n",
    "from azure.core.credentials import AzureKeyCredential\n",
    "from azure.search.documents.aio import SearchClient\n",
    "from azure.search.documents.models import QueryType, Vector\n",
    "from dotenv import load_dotenv\n",
    "import json\n",
    "import re\n",
    "\n",
    "import sys\n",
    "sys.path.append('../app/backend')\n",
    "from core.modelhelper import get_token_limit\n",
    "from core.messagebuilder import MessageBuilder\n",
    "from text import nonewlines\n",
    "\n",
    "with open('../.azure/config.json', 'r') as config_file:\n",
    "    config_data = json.load(config_file)\n",
    "dotenv_path = f'../.azure/{config_data[\"defaultEnvironment\"]}/.env'\n",
    "load_dotenv(dotenv_path) # Load environment variables from .env file\n",
    "\n",
    "# Replace these with your own values, either in environment variables or directly here\n",
    "AZURE_STORAGE_ACCOUNT = os.environ.get(\"AZURE_STORAGE_ACCOUNT\") \n",
    "AZURE_STORAGE_CONTAINER = os.environ.get(\"AZURE_STORAGE_CONTAINER\") \n",
    "AZURE_SEARCH_SERVICE = os.environ.get(\"AZURE_SEARCH_SERVICE\")\n",
    "AZURE_SEARCH_INDEX = os.environ.get(\"AZURE_SEARCH_INDEX\") \n",
    "AZURE_OPENAI_SERVICE = os.environ.get(\"AZURE_OPENAI_SERVICE\") \n",
    "AZURE_OPENAI_GPT_DEPLOYMENT = os.environ.get(\"AZURE_OPENAI_GPT_DEPLOYMENT\") \n",
    "AZURE_OPENAI_CHATGPT_DEPLOYMENT = os.environ.get(\"AZURE_OPENAI_CHATGPT_DEPLOYMENT\")\n",
    "AZURE_OPENAI_EMB_DEPLOYMENT = os.environ.get(\"AZURE_OPENAI_EMB_DEPLOYMENT\")\n",
    "AZURE_OPENAI_CHATGPT_MODEL = os.environ.get(\"AZURE_OPENAI_CHATGPT_MODEL\")\n",
    "\n",
    "KB_FIELDS_CONTENT = os.environ.get(\"KB_FIELDS_CONTENT\") \n",
    "KB_FIELDS_CATEGORY = os.environ.get(\"KB_FIELDS_CATEGORY\") \n",
    "KB_FIELDS_SOURCEPAGE = os.environ.get(\"KB_FIELDS_SOURCEPAGE\")\n",
    "\n",
    "# Use the current user identity to authenticate with Azure OpenAI, Cognitive Search and Blob Storage (no secrets needed, \n",
    "# just use 'az login' locally, and managed identity when deployed on Azure). If you need to use keys, use separate AzureKeyCredential instances with the \n",
    "# keys for each service\n",
    "\n",
    "# Used by the OpenAI SDK\n",
    "openai.api_type = \"azure\"\n",
    "openai.api_base = f\"https://{AZURE_OPENAI_SERVICE}.openai.azure.com\"\n",
    "openai.api_version = \"2023-05-15\"\n",
    "\n",
    "\"# Comment these two lines out if using keys, set your API key in the OPENAI_API_KEY environment variable and set openai.api_type = \\\"azure\\\" instead\\n\"\n",
    "#openai.api_type = \"azure_ad\"\n",
    "openai.api_key = os.environ.get(\"OPENAI_API_KEY\")#azure_credential.get_token(\"https://cognitiveservices.azure.com/.default\").token\n",
    "\n",
    "# Set up clients for Cognitive Search and Storage\n",
    "admin_key = os.environ.get(\"AZURE_COGNITIVE_SEARCH_KEY\")\n",
    "\n",
    "search_client = SearchClient(\n",
    "    endpoint= os.environ.get(\"AZURE_COGNITIVE_SEARCH_ENDPOINT\"),\n",
    "    index_name=AZURE_SEARCH_INDEX,\n",
    "    credential=AzureKeyCredential(admin_key))"
   ]
  },
  {
   "cell_type": "code",
   "execution_count": 11,
   "metadata": {},
   "outputs": [],
   "source": [
    "from azure.storage.blob import BlobServiceClient\n",
    "blob_client = BlobServiceClient(\n",
    "    account_url=f\"https://{AZURE_STORAGE_ACCOUNT}.blob.core.windows.net\", \n",
    "    credential=os.environ.get(\"AZURE_SAS_TOKEN\"))\n",
    "blob_container = blob_client.get_container_client(AZURE_STORAGE_CONTAINER)"
   ]
  },
  {
   "cell_type": "code",
   "execution_count": 12,
   "metadata": {},
   "outputs": [],
   "source": [
    "SYSTEM = \"system\"\n",
    "USER = \"user\"\n",
    "ASSISTANT = \"assistant\"\n",
    "\n",
    "system_message_chat_conversation = \"\"\"You are a customer service assistant for BSH company, helping customers with their home appliance questions, including inquiries about purchasing new products, features, configurations, and troubleshooting.\n",
    "Start answering thanking the user for their question. Respond in a slightly informal, and helpful tone, with a brief and clear answers. \n",
    "Answer ONLY with the facts listed in the list of sources below. If there isn't enough information below, say you don't know without referring to the sources. \n",
    "Do not generate answers that don't use the sources below and avoid to just cite the source without answering the question. \n",
    "If asking a clarifying question to the user would help, ask the question. \n",
    "For tabular information, return it as an HTML table. Do not return markdown format. \n",
    "If the question is not in English, answer in the language used in the question. \n",
    "Each source has a name followed by a colon and the actual information; always include the source name for each fact you use but first try to give an answer and then provide the source you are using. \n",
    "For example, if the question is 'What is the capacity of this washing machine?' and one of the information sources says 'WGB256090_EN-54.pdf: the capacity is 5kg', then answer with 'The capacity is 5kg [WGB256090_EN-54.pdf]'. \n",
    "If there are multiple sources, cite each one in their own square brackets. For example, use '[WGB256090_EN-54.pdf][SMS8YCI03E_EN-24.pdf]' and not in '[WGB256090_EN-54.pdf, SMS8YCI03E_EN-24.pdf]'. \n",
    "If Sources: is followed by \"No sources\", politely ask the user to reformulate the question, it is NOT possible to answer without a source.\n",
    "The name of the source follows a special format: <model_number>_<document_language>-<page_number>.pdf. \n",
    "You can Use this information from source name, especially if someone is asking a question about a specific model.\n",
    "{follow_up_questions_prompt}\n",
    "{injected_prompt}\n",
    "\"\"\"\n",
    "\n",
    "system_message_chat_conversation_no_sources = \"\"\"You are a customer service assistant for BSH company.\n",
    "Start thanking the user for his question and please say that unfortunately you cannot anwer with the information available.\n",
    "If the user is referring to a specific product id, ask to try to double check the product id.\n",
    "If the question is not that clear, politely ask to reformulate it.\n",
    "For example, if the question is 'what are the available programms for SMS6TCI00E washing machine?' then answer with 'Unfortunately I cannot answer to your question. Can you please double check the product id?'\n",
    "If the question is 'what are the available programms for washing machine?' then answer with 'Unfortunately I cannot answer to your question. Can you please reformulate it?\n",
    "\"\"\"\n",
    "\n",
    "follow_up_questions_prompt_content = \"\"\"Generate three very brief follow-up questions that the user would likely ask next about the home appliance they are interested in or need help with. \n",
    "Use double angle brackets to reference the questions, e.g. <<Is there a warranty on this washing machine?>>. \n",
    "Try not to repeat questions that have already been asked. \n",
    "Only generate questions and do not generate any text before or after the questions, such as 'Next Questions'\n",
    "\"\"\"\n",
    "\n",
    "query_prompt_template = \"\"\"Below is a history of the conversation so far, and a new question asked by the user that needs to be answered by searching in a knowledge base about BSH company's home appliances, including buying guides, features, configurations, and troubleshooting.\n",
    "Generate a search query based on the conversation and the new question. \n",
    "Do not include cited source filenames and document names e.g info.txt or doc.pdf in the search query terms.\n",
    "Do not include any text inside [] or <<>> in the search query terms.\n",
    "Do not include any special characters like '+'.\n",
    "If the question is not in English, translate the question to English before generating the search query.\n",
    "If you cannot generate a search query, return just the number 0.\n",
    "\"\"\"\n",
    "query_prompt_few_shots = [\n",
    "{'role' : USER, 'content' : 'how to load the washing machine?' },\n",
    "{'role' : ASSISTANT, 'content' : 'Show the procedure to load a washing machine' },\n",
    "{'role' : USER, 'content' : 'Does my washing machine has wifi?' },\n",
    "{'role' : ASSISTANT, 'content' : 'Check for the wifi feature on the specified washing machine' }\n",
    "]\n",
    "\n",
    "filter_prompt_template = \"\"\"Below is a history of the conversation so far, and a new question asked by the user. \n",
    "First step: identify the language of the LAST user question and return \"en-us\" if it's in english and \"de-de\" if it's in german.\n",
    "If you don't know the language, return \"unknown\".\n",
    "Possible answers are: \"en-us\", \"de-de\", \"unknown\".\n",
    "Second step: identify the product mentioned in the question and return the product id. \n",
    "The product id could be mentioned in the history. Be sure the last question is still referring to the product id.\n",
    "If you don't know the which product the client is talking about because it's not mentioned explicitly in the question, return \"unknown\".\n",
    "Product ids are only alpha-numeric characters like \"SMS6TCI00E\", \"WUU28TA8\", if it's not clear, return \"unknown\".\n",
    "Possible answers are: \"SMS6TCI00E\", \"WUU28TA8\", ..., \"unknown\".\n",
    " \n",
    "Return the two answers separated by a comma, e.g. \"en-us,SMS6TCI00E\".\n",
    "\"\"\"\n",
    "\n",
    "filter_prompt_few_shots = [\n",
    "{'role' : USER, 'content' : 'how to load the washing machine?' },\n",
    "{'role' : ASSISTANT, 'content' : 'en-us,unknown' }, \n",
    "{'role' : USER, 'content' : 'what are the available programms for SMS6TCI00E washing machine?' },\n",
    "{'role' : ASSISTANT, 'content' : 'en-us,SMS6TCI00E' }, \n",
    "{'role' : USER, 'content' : 'what are the available programms for SMD6TCX00E washing machine?' },\n",
    "{'role' : ASSISTANT, 'content' : 'en-us,SMD6TCX00E' }\n",
    "]\n"
   ]
  },
  {
   "cell_type": "code",
   "execution_count": 13,
   "metadata": {},
   "outputs": [
    {
     "data": {
      "text/plain": [
       "[{'role': 'assistant', 'content': 'en-us,SMD6TCX00E'},\n",
       " {'role': 'user',\n",
       "  'content': 'what are the available programms for SMD6TCX00E washing machine?'},\n",
       " {'role': 'assistant', 'content': 'en-us,SMS6TCI00E'},\n",
       " {'role': 'user',\n",
       "  'content': 'what are the available programms for SMS6TCI00E washing machine?'},\n",
       " {'role': 'assistant', 'content': 'en-us,unknown'},\n",
       " {'role': 'user', 'content': 'how to load the washing machine?'}]"
      ]
     },
     "execution_count": 13,
     "metadata": {},
     "output_type": "execute_result"
    }
   ],
   "source": [
    "filter_prompt_few_shots[::-1]"
   ]
  },
  {
   "cell_type": "code",
   "execution_count": 14,
   "metadata": {},
   "outputs": [],
   "source": [
    "request = {'history': [{'user': 'There is too much vibrations on my washer WGB256090, how can I solve the problem?'}, \n",
    "{\"bot\": \"Thank you for your question! If your washing machine is vibrating excessively, it may be due to an unbalanced load. Try rearranging the clothes to balance the load evenly, or reduce the amount of clothes in the machine. It is also important to ensure that the machine is level on the ground. If the issue persists, please consult the user manual for further troubleshooting steps. [WGB256090_EN-54.pdf]\"},\n",
    "{'user': 'Ok, wie sollte man Kleidung in eine Waschmaschine laden?'}],\n",
    "  'approach': 'rrr', 'overrides': {'retrieval_mode': 'hybrid', 'semantic_ranker': True, 'semantic_captions': False, 'top': 5, 'suggest_followup_questions': False}}\n",
    "overrides = request['overrides']\n",
    "history = request[\"history\"]\n",
    "\n",
    "chatgpt_token_limit = get_token_limit(AZURE_OPENAI_CHATGPT_MODEL)\n",
    "\n",
    "def get_messages_from_history(system_prompt: str, model_id: str, history, user_conv: str, few_shots = [], max_tokens: int = 4096):\n",
    "    message_builder = MessageBuilder(system_prompt, model_id)\n",
    "\n",
    "    # Add examples to show the chat what responses we want. It will try to mimic any responses and make sure they match the rules laid out in the system message.\n",
    "    for shot in few_shots[::-1]:\n",
    "        message_builder.append_message(shot.get('role'), shot.get('content'))\n",
    "\n",
    "    user_content = user_conv\n",
    "    append_index = len(few_shots) + 1\n",
    "\n",
    "    message_builder.append_message(USER, user_content, index=append_index)\n",
    "\n",
    "    for h in reversed(history[:-1]):\n",
    "        if bot_msg := h.get(\"bot\"):\n",
    "            message_builder.append_message(ASSISTANT, bot_msg, index=append_index)\n",
    "        if user_msg := h.get(\"user\"):\n",
    "            message_builder.append_message(USER, user_msg, index=append_index)\n",
    "        if message_builder.token_length > max_tokens:\n",
    "            break\n",
    "    \n",
    "    messages = message_builder.messages\n",
    "    return messages"
   ]
  },
  {
   "cell_type": "code",
   "execution_count": 15,
   "metadata": {},
   "outputs": [
    {
     "name": "stdout",
     "output_type": "stream",
     "text": [
      "prompt for query generation: User question: Ok, wie sollte man Kleidung in eine Waschmaschine laden?\n",
      "\n",
      "Message from chat history: [{'role': 'system', 'content': 'Below is a history of the conversation so far, and a new question asked by the user. \\nFirst step: identify the language of the LAST user question and return \"en-us\" if it\\'s in english and \"de-de\" if it\\'s in german.\\nIf you don\\'t know the language, return \"unknown\".\\nPossible answers are: \"en-us\", \"de-de\", \"unknown\".\\nSecond step: identify the product mentioned in the question and return the product id. \\nThe product id could be mentioned in the history. Be sure the last question is still referring to the product id.\\nIf you don\\'t know the which product the client is talking about because it\\'s not mentioned explicitly in the question, return \"unknown\".\\nProduct ids are only alpha-numeric characters like \"SMS6TCI00E\", \"WUU28TA8\", if it\\'s not clear, return \"unknown\".\\nPossible answers are: \"SMS6TCI00E\", \"WUU28TA8\", ..., \"unknown\".\\n \\nReturn the two answers separated by a comma, e.g. \"en-us,SMS6TCI00E\".\\n'}, {'role': 'user', 'content': 'how to load the washing machine?'}, {'role': 'assistant', 'content': 'en-us,unknown'}, {'role': 'user', 'content': 'what are the available programms for SMS6TCI00E washing machine?'}, {'role': 'assistant', 'content': 'en-us,SMS6TCI00E'}, {'role': 'user', 'content': 'what are the available programms for SMD6TCX00E washing machine?'}, {'role': 'assistant', 'content': 'en-us,SMD6TCX00E'}, {'role': 'user', 'content': 'There is too much vibrations on my washer WGB256090, how can I solve the problem?'}, {'role': 'assistant', 'content': 'Thank you for your question! If your washing machine is vibrating excessively, it may be due to an unbalanced load. Try rearranging the clothes to balance the load evenly, or reduce the amount of clothes in the machine. It is also important to ensure that the machine is level on the ground. If the issue persists, please consult the user manual for further troubleshooting steps. [WGB256090_EN-54.pdf]'}, {'role': 'user', 'content': 'User question: Ok, wie sollte man Kleidung in eine Waschmaschine laden?'}]\n",
      "\n",
      "de-de,unknown\n"
     ]
    }
   ],
   "source": [
    "has_text = overrides.get(\"retrieval_mode\") in [\"text\", \"hybrid\", None]\n",
    "has_vector = overrides.get(\"retrieval_mode\") in [\"vectors\", \"hybrid\", None]\n",
    "use_semantic_captions = True if overrides.get(\"semantic_captions\") and has_text else False\n",
    "top = overrides.get(\"top\") or 3\n",
    "exclude_category = overrides.get(\"exclude_category\") or None\n",
    "filter = \"category ne '{}'\".format(exclude_category.replace(\"'\", \"''\")) if exclude_category else None\n",
    "\n",
    "user_q = 'User question: ' + history[-1][\"user\"]\n",
    "\n",
    "print(\"prompt for query generation: \" + user_q + \"\\n\")\n",
    "\n",
    "# STEP 1: Generate an optimized keyword search query based on the chat history and the last question\n",
    "messages_filtering = get_messages_from_history(\n",
    "    filter_prompt_template,\n",
    "    AZURE_OPENAI_CHATGPT_MODEL,\n",
    "    history,\n",
    "    user_q,\n",
    "    filter_prompt_few_shots,\n",
    "    chatgpt_token_limit - len(user_q)\n",
    "    )\n",
    "\n",
    "print(\"Message from chat history: \" + str(messages_filtering) + \"\\n\")\n",
    "\n",
    "chat_completion_filter = await openai.ChatCompletion.acreate(\n",
    "    deployment_id=AZURE_OPENAI_CHATGPT_DEPLOYMENT,\n",
    "    model=AZURE_OPENAI_CHATGPT_MODEL,\n",
    "    messages=messages_filtering,\n",
    "    temperature=0.0,\n",
    "    max_tokens=32,\n",
    "    n=1)\n",
    "\n",
    "filtering_content = chat_completion_filter.choices[0].message.content\n",
    "print(filtering_content)"
   ]
  },
  {
   "cell_type": "code",
   "execution_count": 16,
   "metadata": {},
   "outputs": [
    {
     "data": {
      "text/plain": [
       "[{'role': 'system',\n",
       "  'content': 'Below is a history of the conversation so far, and a new question asked by the user. \\nFirst step: identify the language of the LAST user question and return \"en-us\" if it\\'s in english and \"de-de\" if it\\'s in german.\\nIf you don\\'t know the language, return \"unknown\".\\nPossible answers are: \"en-us\", \"de-de\", \"unknown\".\\nSecond step: identify the product mentioned in the question and return the product id. \\nThe product id could be mentioned in the history. Be sure the last question is still referring to the product id.\\nIf you don\\'t know the which product the client is talking about because it\\'s not mentioned explicitly in the question, return \"unknown\".\\nProduct ids are only alpha-numeric characters like \"SMS6TCI00E\", \"WUU28TA8\", if it\\'s not clear, return \"unknown\".\\nPossible answers are: \"SMS6TCI00E\", \"WUU28TA8\", ..., \"unknown\".\\n \\nReturn the two answers separated by a comma, e.g. \"en-us,SMS6TCI00E\".\\n'},\n",
       " {'role': 'user', 'content': 'how to load the washing machine?'},\n",
       " {'role': 'assistant', 'content': 'en-us,unknown'},\n",
       " {'role': 'user',\n",
       "  'content': 'what are the available programms for SMS6TCI00E washing machine?'},\n",
       " {'role': 'assistant', 'content': 'en-us,SMS6TCI00E'},\n",
       " {'role': 'user',\n",
       "  'content': 'what are the available programms for SMD6TCX00E washing machine?'},\n",
       " {'role': 'assistant', 'content': 'en-us,SMD6TCX00E'},\n",
       " {'role': 'user',\n",
       "  'content': 'There is too much vibrations on my washer WGB256090, how can I solve the problem?'},\n",
       " {'role': 'assistant',\n",
       "  'content': 'Thank you for your question! If your washing machine is vibrating excessively, it may be due to an unbalanced load. Try rearranging the clothes to balance the load evenly, or reduce the amount of clothes in the machine. It is also important to ensure that the machine is level on the ground. If the issue persists, please consult the user manual for further troubleshooting steps. [WGB256090_EN-54.pdf]'},\n",
       " {'role': 'user',\n",
       "  'content': 'User question: Ok, wie sollte man Kleidung in eine Waschmaschine laden?'}]"
      ]
     },
     "execution_count": 16,
     "metadata": {},
     "output_type": "execute_result"
    }
   ],
   "source": [
    "messages_filtering"
   ]
  },
  {
   "cell_type": "code",
   "execution_count": 17,
   "metadata": {},
   "outputs": [
    {
     "name": "stdout",
     "output_type": "stream",
     "text": [
      "prompt for query generation: Generate search query for: Ok, wie sollte man Kleidung in eine Waschmaschine laden?\n",
      "\n",
      "Message from chat history: [{'role': 'system', 'content': \"Below is a history of the conversation so far, and a new question asked by the user that needs to be answered by searching in a knowledge base about BSH company's home appliances, including buying guides, features, configurations, and troubleshooting.\\nGenerate a search query based on the conversation and the new question. \\nDo not include cited source filenames and document names e.g info.txt or doc.pdf in the search query terms.\\nDo not include any text inside [] or <<>> in the search query terms.\\nDo not include any special characters like '+'.\\nIf the question is not in English, translate the question to English before generating the search query.\\nIf you cannot generate a search query, return just the number 0.\\n\"}, {'role': 'user', 'content': 'how to load the washing machine?'}, {'role': 'assistant', 'content': 'Show the procedure to load a washing machine'}, {'role': 'user', 'content': 'Does my washing machine has wifi?'}, {'role': 'assistant', 'content': 'Check for the wifi feature on the specified washing machine'}, {'role': 'user', 'content': 'There is too much vibrations on my washer WGB256090, how can I solve the problem?'}, {'role': 'assistant', 'content': 'Thank you for your question! If your washing machine is vibrating excessively, it may be due to an unbalanced load. Try rearranging the clothes to balance the load evenly, or reduce the amount of clothes in the machine. It is also important to ensure that the machine is level on the ground. If the issue persists, please consult the user manual for further troubleshooting steps. [WGB256090_EN-54.pdf]'}, {'role': 'user', 'content': 'Generate search query for: Ok, wie sollte man Kleidung in eine Waschmaschine laden?'}]\n",
      "\n",
      "\"Anleitung zum Laden von Kleidung in eine Waschmaschine\"\n"
     ]
    }
   ],
   "source": [
    "user_q = 'Generate search query for: ' + history[-1][\"user\"]\n",
    "print(\"prompt for query generation: \" + user_q + \"\\n\")\n",
    "\n",
    "# STEP 1: Generate an optimized keyword search query based on the chat history and the last question\n",
    "messages = get_messages_from_history(\n",
    "    query_prompt_template,\n",
    "    AZURE_OPENAI_CHATGPT_MODEL,\n",
    "    history,\n",
    "    user_q,\n",
    "    query_prompt_few_shots,\n",
    "    chatgpt_token_limit - len(user_q)\n",
    "    )\n",
    "\n",
    "print(\"Message from chat history: \" + str(messages) + \"\\n\")\n",
    "\n",
    "chat_completion = await openai.ChatCompletion.acreate(\n",
    "    deployment_id=AZURE_OPENAI_CHATGPT_DEPLOYMENT,\n",
    "    model=AZURE_OPENAI_CHATGPT_MODEL,\n",
    "    messages=messages,\n",
    "    temperature=0.0,\n",
    "    max_tokens=32,\n",
    "    n=1)\n",
    "\n",
    "response_content = chat_completion.choices[0].message.content\n",
    "print(response_content)"
   ]
  },
  {
   "cell_type": "code",
   "execution_count": 18,
   "metadata": {},
   "outputs": [],
   "source": [
    "language_code_with_country, product_query = filtering_content.split(\",\")\n",
    "        \n",
    "if language_code_with_country in [\"en-us\", \"de-de\"]:\n",
    "    language_filter = f\"language eq '{language_code_with_country}'\"\n",
    "else:\n",
    "    language_filter = \"language eq 'en-us'\"\n",
    "\n",
    "pattern = r'^[A-Z]{3}[A-Z0-9]{5,9}$'\n",
    "if re.match(pattern, product_query):\n",
    "    product_filter = f\"product_id eq '{product_query}'\"\n",
    "    filter = f\"{language_filter} and {product_filter}\"\n",
    "else:\n",
    "    filter = language_filter"
   ]
  },
  {
   "cell_type": "code",
   "execution_count": 19,
   "metadata": {},
   "outputs": [
    {
     "data": {
      "text/plain": [
       "\"language eq 'de-de'\""
      ]
     },
     "execution_count": 19,
     "metadata": {},
     "output_type": "execute_result"
    }
   ],
   "source": [
    "filter"
   ]
  },
  {
   "cell_type": "code",
   "execution_count": 20,
   "metadata": {},
   "outputs": [],
   "source": [
    "# If retrieval mode includes vectors, compute an embedding for the query\n",
    "if has_vector:\n",
    "    query_vector = (await openai.Embedding.acreate(engine=AZURE_OPENAI_EMB_DEPLOYMENT, input=response_content))[\"data\"][0][\"embedding\"]\n",
    "else:\n",
    "    query_vector = None\n",
    "\n",
    "    # Only keep the text query if the retrieval mode uses text, otherwise drop it\n",
    "if not has_text:\n",
    "    response_content = None\n",
    "\n",
    "# Use semantic L2 reranker if requested and if retrieval mode is text or hybrid (vectors + text)\n",
    "if overrides.get(\"semantic_ranker\") and has_text:\n",
    "    r = await search_client.search(response_content,\n",
    "                                    filter=filter,\n",
    "                                    query_type=QueryType.SEMANTIC,\n",
    "                                    query_language=language_code_with_country,\n",
    "                                    query_speller=\"lexicon\",\n",
    "                                    semantic_configuration_name=\"default\",\n",
    "                                    top=top,\n",
    "                                    query_caption=\"extractive|highlight-false\" if use_semantic_captions else None,\n",
    "                                    vector=query_vector,\n",
    "                                    top_k=50 if query_vector else None,\n",
    "                                    vector_fields=\"embedding\" if query_vector else None)\n",
    "else:\n",
    "    r = await search_client.search(response_content,\n",
    "                                    filter=filter,\n",
    "                                    top=top,\n",
    "                                    vector=query_vector,\n",
    "                                    top_k=50 if query_vector else None,\n",
    "                                    vector_fields=\"embedding\" if query_vector else None)"
   ]
  },
  {
   "cell_type": "code",
   "execution_count": 22,
   "metadata": {},
   "outputs": [],
   "source": [
    "if use_semantic_captions:\n",
    "    results = [doc[KB_FIELDS_SOURCEPAGE] + \": \" + nonewlines(\" . \".join([c.text for c in doc['@search.captions']])) async for doc in r]\n",
    "else:\n",
    "    results = [doc[KB_FIELDS_SOURCEPAGE] + \": \" + nonewlines(doc[KB_FIELDS_CONTENT]) async for doc in r]\n",
    "content = \"\\n\".join(results)\n"
   ]
  },
  {
   "cell_type": "code",
   "execution_count": 23,
   "metadata": {},
   "outputs": [
    {
     "name": "stdout",
     "output_type": "stream",
     "text": [
      "\n"
     ]
    }
   ],
   "source": [
    "print(content)"
   ]
  },
  {
   "cell_type": "code",
   "execution_count": 25,
   "metadata": {},
   "outputs": [
    {
     "name": "stdout",
     "output_type": "stream",
     "text": [
      "Retrieved documents: \n",
      "\n",
      "Follow up questions prompt: \n",
      "\n",
      "Message from chat history: [{'role': 'system', 'content': \"You are a customer service assistant for BSH company.\\nStart thanking the user for his question and please say that unfortunately you cannot anwer with the information available.\\nIf the user is referring to a specific product id, ask to try to double check the product id.\\nIf the question is not that clear, politely ask to reformulate it.\\nFor example, if the question is 'what are the available programms for SMS6TCI00E washing machine?' then answer with 'Unfortunately I cannot answer to your question. Can you please double check the product id?'\\nIf the question is 'what are the available programms for washing machine?' then answer with 'Unfortunately I cannot answer to your question. Can you please reformulate it?\\n\"}, {'role': 'user', 'content': 'Ok, wie sollte man Kleidung in eine Waschmaschine laden?'}]\n",
      "\n",
      "Generated answer: Vielen Dank für Ihre Frage! Leider kann ich Ihre Frage nicht beantworten, da ich nicht sicher bin, was genau Sie wissen möchten. Könnten Sie bitte Ihre Frage präzisieren oder ein spezifisches Modell angeben, auf das sich Ihre Frage bezieht? Ich helfe Ihnen gerne weiter, sobald ich mehr Informationen habe. Vielen Dank!\n",
      "\n",
      "Chat content: Vielen Dank für Ihre Frage! Leider kann ich Ihre Frage nicht beantworten, da ich nicht sicher bin, was genau Sie wissen möchten. Könnten Sie bitte Ihre Frage präzisieren oder ein spezifisches Modell angeben, auf das sich Ihre Frage bezieht? Ich helfe Ihnen gerne weiter, sobald ich mehr Informationen habe. Vielen Dank!\n",
      "\n",
      "Message to display: {'role': 'system', 'content': \"You are a customer service assistant for BSH company.\\nStart thanking the user for his question and please say that unfortunately you cannot anwer with the information available.\\nIf the user is referring to a specific product id, ask to try to double check the product id.\\nIf the question is not that clear, politely ask to reformulate it.\\nFor example, if the question is 'what are the available programms for SMS6TCI00E washing machine?' then answer with 'Unfortunately I cannot answer to your question. Can you please double check the product id?'\\nIf the question is 'what are the available programms for washing machine?' then answer with 'Unfortunately I cannot answer to your question. Can you please reformulate it?\\n\"}\n",
      "\n",
      "{'role': 'user', 'content': 'Ok, wie sollte man Kleidung in eine Waschmaschine laden?'}\n",
      "\n"
     ]
    }
   ],
   "source": [
    "print(\"Retrieved documents: \" + content + \"\\n\")\n",
    "\n",
    "follow_up_questions_prompt = follow_up_questions_prompt_content if overrides.get(\"suggest_followup_questions\") else \"\"\n",
    "\n",
    "print(\"Follow up questions prompt: \" + follow_up_questions_prompt + \"\\n\")\n",
    "\n",
    "# STEP 3: Generate a contextual and content specific answer using the search results and chat history\n",
    "\n",
    "# Allow client to replace the entire prompt, or to inject into the exiting prompt using >>>\n",
    "prompt_override = overrides.get(\"prompt_override\")\n",
    "if prompt_override is None:\n",
    "    system_message = system_message_chat_conversation.format(injected_prompt=\"\", follow_up_questions_prompt=follow_up_questions_prompt)\n",
    "elif prompt_override.startswith(\">>>\"):\n",
    "    system_message = system_message_chat_conversation.format(injected_prompt=prompt_override[3:] + \"\\n\", follow_up_questions_prompt=follow_up_questions_prompt)\n",
    "else:\n",
    "    system_message = prompt_override.format(follow_up_questions_prompt=follow_up_questions_prompt)\n",
    "\n",
    "new_history = history if len(content) > 0 else [h for h in history[-1:] if h.get(\"user\")]\n",
    "messages = get_messages_from_history(\n",
    "    system_message + \"\\n\\nSources:\\n\" + content if len(content) > 0 else system_message_chat_conversation_no_sources,\n",
    "    AZURE_OPENAI_CHATGPT_MODEL,\n",
    "    new_history,\n",
    "    history[-1][\"user\"],\n",
    "    max_tokens=chatgpt_token_limit)\n",
    "\n",
    "print(\"Message from chat history: \" + str(messages) + \"\\n\")\n",
    "\n",
    "chat_completion = await openai.ChatCompletion.acreate(\n",
    "    deployment_id=AZURE_OPENAI_CHATGPT_DEPLOYMENT,\n",
    "    model=AZURE_OPENAI_CHATGPT_MODEL,\n",
    "    messages=messages,\n",
    "    temperature=overrides.get(\"temperature\") or 0.7,\n",
    "    max_tokens=1024,\n",
    "    n=1)\n",
    "\n",
    "print(\"Generated answer: \" + chat_completion.choices[0].message.content + \"\\n\")\n",
    "\n",
    "chat_content = chat_completion.choices[0].message.content\n",
    "\n",
    "print(\"Chat content: \" + chat_content + \"\\n\")\n",
    "\n",
    "msg_to_display = '\\n\\n'.join([str(message) for message in messages])\n",
    "\n",
    "print(\"Message to display: \" + msg_to_display + \"\\n\")"
   ]
  },
  {
   "cell_type": "code",
   "execution_count": 26,
   "metadata": {},
   "outputs": [],
   "source": [
    "\n",
    "system_message_chat_conversation_no_sources = \"\"\"You are a customer service assistant for BSH company.\n",
    "Start thanking the user for his question and please say that unfortunately you cannot anwer with the information available.\n",
    "If the user is referring to a specific product id, ask to try to double check the product id.\n",
    "If the question is not that clear, politely ask to reformulate it.\n",
    "For example, if the question is 'what are the available programms for SMS6TCI00E washing machine?' then answer with 'Unfortunately I cannot answer to your question. Can you please double check the product id?'\n",
    "If the question is 'what are the available programms for washing machine?' then answer with 'Unfortunately I cannot answer to your question. Can you please reformulate it?\n",
    "\"\"\""
   ]
  },
  {
   "cell_type": "code",
   "execution_count": 27,
   "metadata": {},
   "outputs": [
    {
     "data": {
      "text/plain": [
       "'Ok, wie sollte man Kleidung in eine Waschmaschine laden?'"
      ]
     },
     "execution_count": 27,
     "metadata": {},
     "output_type": "execute_result"
    }
   ],
   "source": [
    "history[-1][\"user\"]"
   ]
  },
  {
   "cell_type": "code",
   "execution_count": 28,
   "metadata": {},
   "outputs": [
    {
     "data": {
      "text/plain": [
       "[{'user': 'There is too much vibrations on my washer WGB256090, how can I solve the problem?'},\n",
       " {'user': 'Ok, wie sollte man Kleidung in eine Waschmaschine laden?'}]"
      ]
     },
     "execution_count": 28,
     "metadata": {},
     "output_type": "execute_result"
    }
   ],
   "source": [
    "[h for h in history if h.get(\"user\")]"
   ]
  },
  {
   "cell_type": "code",
   "execution_count": 31,
   "metadata": {},
   "outputs": [
    {
     "name": "stdout",
     "output_type": "stream",
     "text": [
      "Vielen Dank für Ihre Frage! Leider kann ich Ihre Frage nicht beantworten, da ich nicht sicher bin, was genau Sie wissen möchten. Könnten Sie bitte Ihre Frage präzisieren oder ein spezifisches Modell angeben, auf das sich Ihre Frage bezieht? Ich helfe Ihnen gerne weiter, sobald ich mehr Informationen habe. Vielen Dank!\n"
     ]
    }
   ],
   "source": [
    "print(chat_completion.choices[0].message.content)"
   ]
  },
  {
   "cell_type": "code",
   "execution_count": null,
   "metadata": {},
   "outputs": [],
   "source": []
  },
  {
   "cell_type": "code",
   "execution_count": 2,
   "metadata": {},
   "outputs": [],
   "source": [
    "import sys \n",
    "sys.path.append('../app/backend')\n",
    "from approaches.chatreadretrieveread import ChatReadRetrieveReadApproach"
   ]
  },
  {
   "cell_type": "code",
   "execution_count": 3,
   "metadata": {},
   "outputs": [],
   "source": [
    "chat = ChatReadRetrieveReadApproach(search_client, \n",
    "                                        AZURE_OPENAI_CHATGPT_DEPLOYMENT,\n",
    "                                        AZURE_OPENAI_CHATGPT_MODEL, \n",
    "                                        AZURE_OPENAI_EMB_DEPLOYMENT,\n",
    "                                        KB_FIELDS_SOURCEPAGE, \n",
    "                                        KB_FIELDS_CONTENT)"
   ]
  },
  {
   "cell_type": "code",
   "execution_count": 4,
   "metadata": {},
   "outputs": [],
   "source": [
    "request = {'history': [{'user': 'Could you provide some available programmes for the washing machine ?'}],\n",
    "  'approach': 'rrr', 'overrides': \n",
    "  {'retrieval_mode': 'hybrid', 'semantic_ranker': True, 'semantic_captions': False, 'top': 5, 'suggest_followup_questions': False}}\n",
    "\n",
    "request = {'history': [{'user': 'There is too much vibrations on my washer WGB256090, how can I solve the problem?'}, \n",
    "{\"bot\": \"Thank you for your question! If your washing machine is vibrating excessively, it may be due to an unbalanced load. Try rearranging the clothes to balance the load evenly, or reduce the amount of clothes in the machine. It is also important to ensure that the machine is level on the ground. If the issue persists, please consult the user manual for further troubleshooting steps. [WGB256090_EN-54.pdf]\"},\n",
    "{'user': 'Ok, wie sollte man Kleidung in eine Waschmaschine laden?'}],\n",
    "  'approach': 'rrr', 'overrides': {'retrieval_mode': 'hybrid', 'semantic_ranker': True, 'semantic_captions': False, 'top': 5, 'suggest_followup_questions': False}}\n"
   ]
  },
  {
   "cell_type": "code",
   "execution_count": 5,
   "metadata": {},
   "outputs": [],
   "source": [
    "overrides = request[\"overrides\"]\n",
    "history = request[\"history\"]"
   ]
  },
  {
   "cell_type": "code",
   "execution_count": 6,
   "metadata": {},
   "outputs": [
    {
     "name": "stdout",
     "output_type": "stream",
     "text": [
      "prompt for query generation: User question: Ok, wie sollte man Kleidung in eine Waschmaschine laden?\n",
      "\n",
      "Message from chat history: [{'role': 'system', 'content': 'Below is a history of the conversation so far, and a new question asked by the user. \\nFirst step: identify the language of the LAST user question and return \"en-us\" if it\\'s in english and \"de-de\" if it\\'s in german.\\nIf you don\\'t know the language, return \"unknown\".\\nPossible answers are: \"en-us\", \"de-de\", \"unknown\".\\nSecond step: identify the product mentioned in the question and return the product id. \\nThe product id could be mentioned in the history. Be sure the last question is still referring to the product id.\\nIf you don\\'t know the which product the client is talking about because it\\'s not mentioned explicitly in the question, return \"unknown\".\\nProduct ids are only alpha-numeric characters like \"SMS6TCI00E\", \"WUU28TA8\", if it\\'s not clear, return \"unknown\".\\nPossible answers are: \"SMS6TCI00E\", \"WUU28TA8\", ..., \"unknown\".\\n \\nReturn the two answers separated by a comma, e.g. \"en-us,SMS6TCI00E\".\\n'}, {'role': 'user', 'content': 'how to load the washing machine?'}, {'role': 'assistant', 'content': 'en-us,unknown'}, {'role': 'user', 'content': 'what are the available programms for SMS6TCI00E washing machine?'}, {'role': 'assistant', 'content': 'en-us,SMS6TCI00E'}, {'role': 'user', 'content': 'what are the available programms for SMD6TCX00E washing machine?'}, {'role': 'assistant', 'content': 'en-us,SMD6TCX00E'}, {'role': 'user', 'content': 'There is too much vibrations on my washer WGB256090, how can I solve the problem?'}, {'role': 'assistant', 'content': 'Thank you for your question! If your washing machine is vibrating excessively, it may be due to an unbalanced load. Try rearranging the clothes to balance the load evenly, or reduce the amount of clothes in the machine. It is also important to ensure that the machine is level on the ground. If the issue persists, please consult the user manual for further troubleshooting steps. [WGB256090_EN-54.pdf]'}, {'role': 'user', 'content': 'User question: Ok, wie sollte man Kleidung in eine Waschmaschine laden?'}]\n",
      "\n",
      "Filter: language eq 'de-de'\n",
      "\n",
      "prompt for query generation: Generate search query for: Ok, wie sollte man Kleidung in eine Waschmaschine laden?\n",
      "\n",
      "Message from chat history: [{'role': 'system', 'content': \"Below is a history of the conversation so far, and a new question asked by the user that needs to be answered by searching in a knowledge base about BSH company's home appliances, including buying guides, features, configurations, and troubleshooting.\\nGenerate a search query based on the conversation and the new question. \\nDo not include cited source filenames and document names e.g info.txt or doc.pdf in the search query terms.\\nDo not include any text inside [] or <<>> in the search query terms.\\nDo not include any special characters like '+'.\\nIf the question is not in English, translate the question to English before generating the search query.\\nIf you cannot generate a search query, return just the number 0.\\n\"}, {'role': 'user', 'content': 'how to load the washing machine?'}, {'role': 'assistant', 'content': 'Show the procedure to load a washing machine'}, {'role': 'user', 'content': 'Does my washing machine has wifi?'}, {'role': 'assistant', 'content': 'Check for the wifi feature on the specified washing machine'}, {'role': 'user', 'content': 'There is too much vibrations on my washer WGB256090, how can I solve the problem?'}, {'role': 'assistant', 'content': 'Thank you for your question! If your washing machine is vibrating excessively, it may be due to an unbalanced load. Try rearranging the clothes to balance the load evenly, or reduce the amount of clothes in the machine. It is also important to ensure that the machine is level on the ground. If the issue persists, please consult the user manual for further troubleshooting steps. [WGB256090_EN-54.pdf]'}, {'role': 'user', 'content': 'Generate search query for: Ok, wie sollte man Kleidung in eine Waschmaschine laden?'}]\n",
      "\n",
      "Generated query: \"Anleitung zum Laden von Kleidung in eine Waschmaschine\"\n",
      "\n",
      "Retrieved documents: \n",
      "\n",
      "Follow up questions prompt: \n",
      "\n",
      "Message from chat history: [{'role': 'system', 'content': \"You are a customer service assistant for BSH company.\\nStart thanking the user for his question and please say that unfortunately you cannot anwer with the information available.\\nIf the user is referring to a specific product id, ask to try to double check the product id.\\nIf the question is not that clear, politely ask to reformulate it.\\nFor example, if the question is 'what are the available programms for SMS6TCI00E washing machine?' then answer with 'Unfortunately I cannot answer to your question. Can you please double check the product id?'\\nIf the question is 'what are the available programms for washing machine?' then answer with 'Unfortunately I cannot answer to your question. Can you please reformulate it?\\n\"}, {'role': 'user', 'content': 'Ok, wie sollte man Kleidung in eine Waschmaschine laden?'}]\n",
      "\n",
      "Generated answer: Vielen Dank für Ihre Frage. Ich kann Ihnen jedoch leider keine Antwort geben, da diese keine spezifischen Informationen über ein Produkt von BSH enthält. Bitte formulieren Sie Ihre Frage spezifischer oder geben Sie uns das Modell der Waschmaschine, auf das Sie sich beziehen, damit wir Ihnen besser helfen können. Danke.\n",
      "\n",
      "Chat content: Vielen Dank für Ihre Frage. Ich kann Ihnen jedoch leider keine Antwort geben, da diese keine spezifischen Informationen über ein Produkt von BSH enthält. Bitte formulieren Sie Ihre Frage spezifischer oder geben Sie uns das Modell der Waschmaschine, auf das Sie sich beziehen, damit wir Ihnen besser helfen können. Danke.\n",
      "\n",
      "Message to display: {'role': 'system', 'content': \"You are a customer service assistant for BSH company.\\nStart thanking the user for his question and please say that unfortunately you cannot anwer with the information available.\\nIf the user is referring to a specific product id, ask to try to double check the product id.\\nIf the question is not that clear, politely ask to reformulate it.\\nFor example, if the question is 'what are the available programms for SMS6TCI00E washing machine?' then answer with 'Unfortunately I cannot answer to your question. Can you please double check the product id?'\\nIf the question is 'what are the available programms for washing machine?' then answer with 'Unfortunately I cannot answer to your question. Can you please reformulate it?\\n\"}\n",
      "\n",
      "{'role': 'user', 'content': 'Ok, wie sollte man Kleidung in eine Waschmaschine laden?'}\n",
      "\n"
     ]
    }
   ],
   "source": [
    "r = await chat.run(request[\"history\"], request.get(\"overrides\") or {})"
   ]
  },
  {
   "cell_type": "code",
   "execution_count": 7,
   "metadata": {},
   "outputs": [
    {
     "name": "stdout",
     "output_type": "stream",
     "text": [
      "Vielen Dank für Ihre Frage. Ich kann Ihnen jedoch leider keine Antwort geben, da diese keine spezifischen Informationen über ein Produkt von BSH enthält. Bitte formulieren Sie Ihre Frage spezifischer oder geben Sie uns das Modell der Waschmaschine, auf das Sie sich beziehen, damit wir Ihnen besser helfen können. Danke.\n"
     ]
    }
   ],
   "source": [
    "print(r[\"answer\"])"
   ]
  },
  {
   "cell_type": "code",
   "execution_count": null,
   "metadata": {},
   "outputs": [],
   "source": []
  }
 ],
 "metadata": {
  "kernelspec": {
   "display_name": "Python 3",
   "language": "python",
   "name": "python3"
  },
  "language_info": {
   "codemirror_mode": {
    "name": "ipython",
    "version": 3
   },
   "file_extension": ".py",
   "mimetype": "text/x-python",
   "name": "python",
   "nbconvert_exporter": "python",
   "pygments_lexer": "ipython3",
   "version": "3.11.4"
  },
  "orig_nbformat": 4,
  "vscode": {
   "interpreter": {
    "hash": "c40b9fc8dfc687e53ddb074d322e19207ef9cf3db51c580aef67976913dea803"
   }
  }
 },
 "nbformat": 4,
 "nbformat_minor": 2
}
