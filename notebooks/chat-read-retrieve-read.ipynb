{
 "cells": [
  {
   "cell_type": "code",
   "execution_count": 25,
   "metadata": {},
   "outputs": [],
   "source": [
    "import os\n",
    "import json\n",
    "import openai\n",
    "from dotenv import load_dotenv\n",
    "from azure.identity import DefaultAzureCredential\n",
    "from azure.search.documents import SearchClient\n",
    "from azure.search.documents.models import QueryType\n",
    "\n",
    "dotenv_path = f'../.azure/{config_data[\"defaultEnvironment\"]}/.env'\n",
    "load_dotenv(dotenv_path) # Load environment variables from .env file\n",
    "\n",
    "# Replace these with your own values, either in environment variables or directly here\n",
    "AZURE_STORAGE_ACCOUNT = os.environ.get(\"AZURE_STORAGE_ACCOUNT\") or \"mystorageaccount\"\n",
    "AZURE_STORAGE_CONTAINER = os.environ.get(\"AZURE_STORAGE_CONTAINER\") or \"content\"\n",
    "AZURE_SEARCH_SERVICE = os.environ.get(\"AZURE_SEARCH_SERVICE\") or \"gptkb\"\n",
    "AZURE_SEARCH_INDEX = os.environ.get(\"AZURE_SEARCH_INDEX\") or \"gptkbindex\"\n",
    "AZURE_OPENAI_SERVICE = os.environ.get(\"AZURE_OPENAI_SERVICE\") or \"myopenai\"\n",
    "AZURE_OPENAI_GPT_DEPLOYMENT = os.environ.get(\"AZURE_OPENAI_GPT_DEPLOYMENT\") or \"davinci\"\n",
    "AZURE_OPENAI_CHATGPT_DEPLOYMENT = os.environ.get(\"AZURE_OPENAI_CHATGPT_DEPLOYMENT\") or \"chat\"\n",
    "AZURE_OPENAI_CHATGPT_MODEL = os.environ.get(\"AZURE_OPENAI_CHATGPT_MODEL\") or \"gpt-35-turbo\"\n",
    "AZURE_OPENAI_EMB_DEPLOYMENT = os.environ.get(\"AZURE_OPENAI_EMB_DEPLOYMENT\") or \"embedding\"\n",
    "\n",
    "KB_FIELDS_CONTENT = os.environ.get(\"KB_FIELDS_CONTENT\") or \"content\"\n",
    "KB_FIELDS_CATEGORY = os.environ.get(\"KB_FIELDS_CATEGORY\") or \"category\"\n",
    "KB_FIELDS_SOURCEPAGE = os.environ.get(\"KB_FIELDS_SOURCEPAGE\") or \"sourcepage\"\n",
    "\n",
    "# Use the current user identity to authenticate with Azure OpenAI, Cognitive Search and Blob Storage (no secrets needed, \n",
    "# just use 'az login' locally, and managed identity when deployed on Azure). If you need to use keys, use separate AzureKeyCredential instances with the \n",
    "# keys for each service\n",
    "#azure_credential = DefaultAzureCredential(exclude_shared_token_cache_credential = True)\n",
    "\n",
    "# Used by the OpenAI SDK\n",
    "openai.api_type = \"azure\"\n",
    "openai.api_base = f\"https://{AZURE_OPENAI_SERVICE}.openai.azure.com\"\n",
    "openai.api_version = \"2023-05-15\"\n",
    "openai.api_key = os.environ.get(\"OPENAI_API_KEY\")\n",
    "\n",
    "# Set up clients for Cognitive Search and Storage\n",
    "admin_key = os.environ.get(\"AZURE_COGNITIVE_SEARCH_KEY\")\n",
    "\n",
    "# Set up clients for Cognitive Search and Storage\n",
    "search_client = SearchClient(\n",
    "    endpoint= os.environ.get(\"AZURE_COGNITIVE_SEARCH_ENDPOINT\"),\n",
    "    index_name=AZURE_SEARCH_INDEX,\n",
    "    credential=AzureKeyCredential(admin_key))"
   ]
  },
  {
   "cell_type": "code",
   "execution_count": 76,
   "metadata": {},
   "outputs": [],
   "source": [
    "SYSTEM = \"system\"\n",
    "USER = \"user\"\n",
    "ASSISTANT = \"assistant\"\n",
    "\n",
    "system_message_chat_conversation = \"\"\"You are a customer service assistant for BSH company, helping customers with their home appliance questions, including inquiries about purchasing new products, features, configurations, and troubleshooting.\n",
    "Start answering thanking the user for their question. Respond in a slightly informal, and helpful tone, with a brief and clear answers. \n",
    "Answer ONLY with the facts listed in the list of sources below. If there isn't enough information below, say you don't know without referring to the sources. \n",
    "Do not generate answers that don't use the sources below and avoid to just cite the source without answering the question. \n",
    "If asking a clarifying question to the user would help, ask the question. \n",
    "For tabular information, return it as an HTML table. Do not return markdown format. \n",
    "If the question is not in English, answer in the language used in the question. \n",
    "Each source has a name followed by a colon and the actual information; always include the source name for each fact you use in the response without referring to the sources. \n",
    "For example, if the question is 'What is the capacity of this washing machine?' and one of the information sources says 'WGB256090_EN-54.pdf: the capacity is 5kg', then answer with 'The capacity is 5kg [WGB256090_EN-54.pdf]'. \n",
    "If there are multiple sources, cite each one in their own square brackets. For example, use '[WGB256090_EN-54.pdf][SMS8YCI03E_EN-24.pdf]' and not in '[WGB256090_EN-54.pdf, SMS8YCI03E_EN-24.pdf]'. \n",
    "The name of the source follows a special format: <model_number>_<document_language>-<page_number>.pdf. \n",
    "You can Use this information from source name, especially if someone is asking a question about a specific model.\n",
    "{follow_up_questions_prompt}\n",
    "{injected_prompt}\n",
    "\"\"\"\n",
    "\n",
    "follow_up_questions_prompt_content = \"\"\"Generate three very brief follow-up questions that the user would likely ask next about the home appliance they are interested in or need help with. \n",
    "Use double angle brackets to reference the questions, e.g. <<Is there a warranty on this washing machine?>>. \n",
    "Try not to repeat questions that have already been asked. \n",
    "Only generate questions and do not generate any text before or after the questions, such as 'Next Questions'\n",
    "\"\"\"\n",
    "\n",
    "query_prompt_template = \"\"\"Below is a history of the conversation so far, and a new question asked by the user that needs to be answered by searching in a knowledge base about BSH company's home appliances, including buying guides, features, configurations, and troubleshooting.\n",
    "Generate a search query based on the conversation and the new question. \n",
    "Ensure that the search query is in the same language as the new question.\n",
    "If the question is not in English, answer in the language used in the question.\n",
    "Do not include cited source filenames and document names e.g info.txt or doc.pdf in the search query terms.\n",
    "Do not include any text inside [] or <<>> in the search query terms.\n",
    "Do not include any special characters like '+'.\n",
    "If you cannot generate a search query, return just the number 0.\n",
    "Return the query enclosed in the quotes for e.g., 'washing machine with product id WGB256090'\n",
    "\"\"\"\n",
    "\n",
    "query_prompt_few_shots = [\n",
    "{'role' : USER, 'content' : 'how to load the washing machine?' },\n",
    "{'role' : ASSISTANT, 'content' : 'Show the procedure to load a washing machine' },\n",
    "{'role' : USER, 'content' : 'Does my washing machine has wifi?' },\n",
    "{'role' : ASSISTANT, 'content' : 'Check for the wifi feature on the specified washing machine' }\n",
    "]\n",
    "\n",
    "filter_prompt_template = \"\"\"Below is a history of the conversation so far, and a new question asked by the user. \n",
    "Identify the language of the question and return \"en-us\" if it's in english and \"de-de\" if it's in german.\n",
    "If you don't know the language, return \"unknown\".\n",
    "Possible answers are: \"en-us\", \"de-de\", \"unknown\".\n",
    "\n",
    "Return the two answers enclosed in the quotes for e.g., 'en-us'\n",
    "\"\"\"\n",
    "\n",
    "filter_prompt_few_shots = [\n",
    "{'role' : USER, 'content' : 'how to load the washing machine?' },\n",
    "{'role' : ASSISTANT, 'content' : 'en-us'}, \n",
    "{'role' : USER, 'content' : 'Gibt es Wifi auf meine Waschmachine mit produkt nummer WGB256090?' },\n",
    "{'role' : ASSISTANT, 'content' : 'de-de'},\n",
    "{'role' : USER, 'content' : 'what are the available programms for SMS6TCI00E washing machine?' },\n",
    "{'role' : ASSISTANT, 'content' : 'en-us'},\n",
    "]\n",
    "\n",
    "filter_prompt_template_2 = \"\"\"Below is a history of the conversation so far, and a new question asked by the user. \n",
    "First step: identify the language of the question and return \"en-us\" if it's in english and \"de-de\" if it's in german.\n",
    "If you don't know the language, return \"unknown\".\n",
    "Possible answers are: \"en-us\", \"de-de\", \"unknown\".\n",
    "\n",
    "Second step: identify the product mentioned in the question and return the product id.\n",
    "If you don't know the which product the client is talking about because it's not mentioned explicitly in the question, return \"unknown\".\n",
    "Product ids are only \"SMD6TCX00E\", \"SMS6TCI00E\", \"SMS8YCI03E\", \"WGB256A90\", \"WGB256090\", \"WUU28TA8\". If it's not one of these ids, return \"unknown\".\n",
    "Possible answers are: \"SMD6TCX00E\", \"SMS6TCI00E\", \"SMS8YCI03E\", \"WGB256A90\", \"WGB256090\", \"WUU28TA8\", \"unknown\".\n",
    "\n",
    "Return the two answers in the comma separated format: e.g. 'en-us,SMS6TCI00E'\n",
    "\"\"\"\n",
    "\n",
    "filter_prompt_few_shots_2 = [\n",
    "{'role' : USER, 'content' : 'how to load the washing machine?' },\n",
    "{'role' : ASSISTANT, 'content' : 'en-us,unknown'}, \n",
    "{'role' : USER, 'content' : 'what are the available programms for SMS6TCI00E whashing machine?' },\n",
    "{'role' : ASSISTANT, 'content' : 'en-us,SMS6TCI00E'},\n",
    "{'role' : USER, 'content' : 'what are the available programms for the whashing machine?' },\n",
    "{'role' : ASSISTANT, 'content' : 'en-us,unknown'}\n",
    "]"
   ]
  },
  {
   "cell_type": "code",
   "execution_count": 77,
   "metadata": {},
   "outputs": [],
   "source": [
    "user_input = \"Ich habe eine Frage. Gibt es Wifi auf my Waschmachine mit produkt nummer WGB256090?\"\n",
    "request = {'history': [{'user': user_input}],\n",
    "           'approach': 'rrr', \n",
    "           'overrides': {'retrieval_mode': 'hybrid', \n",
    "                         'semantic_ranker': True, \n",
    "                         'semantic_captions': False, \n",
    "                         'top': 5, \n",
    "                         'suggest_followup_questions': False\n",
    "                         }\n",
    "           }\n",
    "overrides = request['overrides']\n",
    "history = request[\"history\"]\n",
    "\n",
    "chatgpt_token_limit = get_token_limit(AZURE_OPENAI_CHATGPT_MODEL)\n",
    "\n",
    "def get_messages_from_history(system_prompt: str, model_id: str, history, user_conv: str, few_shots = [], max_tokens: int = 4096):\n",
    "    message_builder = MessageBuilder(system_prompt, model_id)\n",
    "\n",
    "    # Add examples to show the chat what responses we want. It will try to mimic any responses and make sure they match the rules laid out in the system message.\n",
    "    for shot in few_shots:\n",
    "        message_builder.append_message(shot.get('role'), shot.get('content'))\n",
    "\n",
    "    user_content = user_conv\n",
    "    append_index = len(few_shots) + 1\n",
    "\n",
    "    message_builder.append_message(USER, user_content, index=append_index)\n",
    "\n",
    "    for h in reversed(history[:-1]):\n",
    "        if h.get(\"bot\"):\n",
    "            message_builder.append_message(ASSISTANT, h.get('bot'), index=append_index)\n",
    "        message_builder.append_message(USER, h.get('user'), index=append_index)\n",
    "        if message_builder.token_length > max_tokens:\n",
    "            break\n",
    "    \n",
    "    messages = message_builder.messages\n",
    "    return messages"
   ]
  },
  {
   "cell_type": "code",
   "execution_count": 78,
   "metadata": {},
   "outputs": [
    {
     "name": "stdout",
     "output_type": "stream",
     "text": [
      "prompt for query generation: User question: Ich habe eine Frage. Gibt es Wifi auf my Waschmachine mit produkt nummer WGB256090?\n",
      "\n",
      "de-de\n"
     ]
    }
   ],
   "source": [
    "has_text = overrides.get(\"retrieval_mode\") in [\"text\", \"hybrid\", None]\n",
    "has_vector = overrides.get(\"retrieval_mode\") in [\"vectors\", \"hybrid\", None]\n",
    "use_semantic_captions = True if overrides.get(\"semantic_captions\") and has_text else False\n",
    "top = overrides.get(\"top\") or 3\n",
    "exclude_category = overrides.get(\"exclude_category\") or None\n",
    "filter = \"category ne '{}'\".format(exclude_category.replace(\"'\", \"''\")) if exclude_category else None\n",
    "\n",
    "user_q = 'User question: ' + history[-1][\"user\"]\n",
    "\n",
    "print(\"prompt for query generation: \" + user_q + \"\\n\")\n",
    "\n",
    "# STEP 1: Generate an optimized keyword search query based on the chat history and the last question\n",
    "messages_filtering = get_messages_from_history(\n",
    "    filter_prompt_template,\n",
    "    AZURE_OPENAI_CHATGPT_MODEL,\n",
    "    history,\n",
    "    user_q,\n",
    "    filter_prompt_few_shots,\n",
    "    chatgpt_token_limit - len(user_q)\n",
    "    )\n",
    "\n",
    "chat_completion_filter = await openai.ChatCompletion.acreate(\n",
    "    deployment_id=AZURE_OPENAI_CHATGPT_DEPLOYMENT,\n",
    "    model=AZURE_OPENAI_CHATGPT_MODEL,\n",
    "    messages=messages_filtering,\n",
    "    temperature=0.0,\n",
    "    max_tokens=32,\n",
    "    n=1)\n",
    "\n",
    "filtering_content = chat_completion_filter.choices[0].message.content\n",
    "\n",
    "print(filtering_content)\n",
    "\n",
    "\n"
   ]
  },
  {
   "cell_type": "code",
   "execution_count": 79,
   "metadata": {},
   "outputs": [
    {
     "name": "stdout",
     "output_type": "stream",
     "text": [
      "\"Waschmaschine mit Produktnummer WGB256090 WiFi-Funktion\"\n"
     ]
    }
   ],
   "source": [
    "messages_query = get_messages_from_history(\n",
    "    query_prompt_template,\n",
    "    AZURE_OPENAI_CHATGPT_MODEL,\n",
    "    history,\n",
    "    user_q,\n",
    "    query_prompt_few_shots,\n",
    "    chatgpt_token_limit - len(user_q)\n",
    "    )\n",
    "\n",
    "chat_completion_query = await openai.ChatCompletion.acreate(\n",
    "    deployment_id=AZURE_OPENAI_CHATGPT_DEPLOYMENT,\n",
    "    model=AZURE_OPENAI_CHATGPT_MODEL,\n",
    "    messages=messages_query,\n",
    "    temperature=0.0,\n",
    "    max_tokens=32,\n",
    "    n=1)\n",
    "\n",
    "query_content = chat_completion_query.choices[0].message.content\n",
    "\n",
    "print(query_content)"
   ]
  },
  {
   "cell_type": "code",
   "execution_count": 75,
   "metadata": {},
   "outputs": [
    {
     "data": {
      "text/plain": [
       "[{'user': 'Ich habe eine Frage. Gibt es Wifi auf my Waschmachine mit produkt nummer WGB256090?'}]"
      ]
     },
     "execution_count": 75,
     "metadata": {},
     "output_type": "execute_result"
    }
   ],
   "source": [
    "history"
   ]
  },
  {
   "cell_type": "code",
   "execution_count": 82,
   "metadata": {},
   "outputs": [],
   "source": [
    "language_filter = f\"language eq '{filtering_content}'\"\n",
    "\n",
    "if filter:\n",
    "    filter = f\"{filter} and {language_filter}\"\n",
    "else:\n",
    "    filter = language_filter\n",
    "\n",
    "query_text = query_content"
   ]
  },
  {
   "cell_type": "code",
   "execution_count": 83,
   "metadata": {},
   "outputs": [
    {
     "data": {
      "text/plain": [
       "\"language eq 'de-de' and language eq 'de-de'\""
      ]
     },
     "execution_count": 83,
     "metadata": {},
     "output_type": "execute_result"
    }
   ],
   "source": [
    "filter"
   ]
  },
  {
   "cell_type": "code",
   "execution_count": 90,
   "metadata": {},
   "outputs": [
    {
     "name": "stdout",
     "output_type": "stream",
     "text": [
      "Retrieved documents: WUU28TA8_en-us_washing machine-3.pdf: 1.2 Intended useOnly use this appliance:¡ For washing machine-washable fabrics and hand-washable wool in accordance with the care label.¡ With tap water and commercially available detergents and care products suitable for washing machines.¡ In private households and in enclosed spaces in a domestic en- vironment.¡ Up to an altitude of max. 4000 m above sea level.1.3 Restriction on user groupThis appliance may be used by children aged 8 or over and by people who have reduced physical, sensory or mental abilities or inadequate experience and/or knowledge, provided that they are supervised or have been instructed on how to use the appliance safely and have understood the resulting dangers.Do not let children play with the appliance.Cleaning and user maintenance must not be performed by chil- dren unless they are being supervised.Keep children under the age of 3 years and pets away from the appliance.4 :selected: Safety en1.4 Safe installationTake note of the safety instructions when installing the appliance.\n",
      "WGB256A90_en-us_washing machine-2.pdf:  6122.2 AQUA-STOP guarantee......... 6223 Consumption values............... 6324 Technical data ......................... 6424.1 Information regarding Free and Open Source Software... 6425 Declaration of Conformity ...... 653     Safetyen1 SafetyObserve the following safety instructions.1.1 General information¡ Read this instruction manual carefully.¡ Keep the instruction manual and the product information safe for future reference or for the next owner.¡ Do not connect the appliance if it has been damaged in transit.1.2 Intended useOnly use this appliance:¡ For washing machine-washable fabrics and hand-washable wool in accordance with the care label.¡ With tap water and commercially available detergents and care products suitable for washing machines.¡ in private households and in enclosed spaces in a domestic en- vironment.¡ up to an altitude of max. 4000 m above sea level.1.3 Restriction on user groupThis appliance may be used by children aged 8 or over and by people who have reduced physical, sensory or mental abilities or inadequate experience and/or \n",
      "SMD6TCX00E_en-us_dishwasher-26.pdf: 27 en DetergentWith powder and liquid detergent the dosage can be individually adjusted to the level of soiling of the table- ware.For better washing and drying results and to avoid damage to the appli- ance, please additionally use Special salt → Page 24 and Rinse aid → Page 26.Combined detergentBesides conventional separate deter- gents, a number of products are available with additional functions. These products contain not only de- tergent but also rinse aid and salt re- placement substances (3in1) and, depending on the combination (4in1, 5in1, ...), additional components such as glass protection or stainless steel cleaner.According to the manufacturers, combined detergents generally only function up to a water hardness of 26 °E. With a water hardness above 26 °E you will need to add special salt and rinse aid. For the best wash- ing and drying results we recom- mend using special salt and rinse aid from a water hardness of 17 °E. If you are using combined detergent, the washing programme is adjusted automatically to ensure the best pos- sible washing and drying result.\n",
      "\n"
     ]
    }
   ],
   "source": [
    "# If retrieval mode includes vectors, compute an embedding for the query\n",
    "if has_vector:\n",
    "    query_vector = (await openai.Embedding.acreate(engine=AZURE_OPENAI_EMB_DEPLOYMENT, input=query_text))[\"data\"][0][\"embedding\"]\n",
    "else:\n",
    "    query_vector = None\n",
    "\n",
    "    # Only keep the text query if the retrieval mode uses text, otherwise drop it\n",
    "if not has_text:\n",
    "    query_text = None\n",
    "\n",
    "# Use semantic L2 reranker if requested and if retrieval mode is text or hybrid (vectors + text)\n",
    "if overrides.get(\"semantic_ranker\") and has_text:\n",
    "    r = search_client.search(query_text,\n",
    "                                filter=filter,\n",
    "                                query_type=QueryType.SEMANTIC,\n",
    "                                query_language=filtering_content,\n",
    "                                query_speller=\"lexicon\",\n",
    "                                semantic_configuration_name=\"default\",\n",
    "                                top=top,\n",
    "                                query_caption=\"extractive|highlight-false\" if use_semantic_captions else None,\n",
    "                                vector=query_vector,\n",
    "                                top_k=50 if query_vector else None,\n",
    "                                vector_fields=\"embedding\" if query_vector else None)\n",
    "else:\n",
    "    r = s\n",
    "    earch_client.search(query_text,\n",
    "                                filter=filter,\n",
    "                                top=top,\n",
    "                                vector=query_vector,\n",
    "                                top_k=50 if query_vector else None,\n",
    "                                vector_fields=\"embedding\" if query_vector else None)\n",
    "#if use_semantic_captions:\n",
    "#    results = [doc[self.sourcepage_field] + \": \" + nonewlines(\" . \".join([c.text for c in doc['@search.captions']])) async for doc in r]\n",
    "#else:\n",
    "#    results = [doc[self.sourcepage_field] + \": \" + nonewlines(doc[self.content_field]) async for doc in r]\n",
    "#content = \"\\n\".join(results)\n",
    "\n",
    "print(\"Retrieved documents: \" + content + \"\\n\")\n",
    "\n",
    "follow_up_questions_prompt = self.follow_up_questions_prompt_content if overrides.get(\"suggest_followup_questions\") else \"\""
   ]
  },
  {
   "cell_type": "code",
   "execution_count": 93,
   "metadata": {},
   "outputs": [
    {
     "name": "stdout",
     "output_type": "stream",
     "text": [
      "Message from chat history for answer generation: [{'role': 'system', 'content': \"You are a customer service assistant for BSH company, helping customers with their home appliance questions, including inquiries about purchasing new products, features, configurations, and troubleshooting.\\nStart answering thanking the user for their question. Respond in a slightly informal, and helpful tone, with a brief and clear answers. \\nAnswer ONLY with the facts listed in the list of sources below. If there isn't enough information below, say you don't know without referring to the sources. \\nDo not generate answers that don't use the sources below and avoid to just cite the source without answering the question. \\nIf asking a clarifying question to the user would help, ask the question. \\nFor tabular information, return it as an HTML table. Do not return markdown format. \\nIf the question is not in English, answer in the language used in the question. \\nEach source has a name followed by a colon and the actual information; always include the source name for each fact you use in the response without referring to the sources. \\nFor example, if the question is 'What is the capacity of this washing machine?' and one of the information sources says 'WGB256090_EN-54.pdf: the capacity is 5kg', then answer with 'The capacity is 5kg [WGB256090_EN-54.pdf]'. \\nIf there are multiple sources, cite each one in their own square brackets. For example, use '[WGB256090_EN-54.pdf][SMS8YCI03E_EN-24.pdf]' and not in '[WGB256090_EN-54.pdf, SMS8YCI03E_EN-24.pdf]'. \\nThe name of the source follows a special format: <model_number>_<document_language>-<page_number>.pdf. \\nYou can Use this information from source name, especially if someone is asking a question about a specific model.\\n\\n\\n\\n\\nSources:\\nWUU28TA8_en-us_washing machine-3.pdf: 1.2 Intended useOnly use this appliance:¡ For washing machine-washable fabrics and hand-washable wool in accordance with the care label.¡ With tap water and commercially available detergents and care products suitable for washing machines.¡ In private households and in enclosed spaces in a domestic en- vironment.¡ Up to an altitude of max. 4000 m above sea level.1.3 Restriction on user groupThis appliance may be used by children aged 8 or over and by people who have reduced physical, sensory or mental abilities or inadequate experience and/or knowledge, provided that they are supervised or have been instructed on how to use the appliance safely and have understood the resulting dangers.Do not let children play with the appliance.Cleaning and user maintenance must not be performed by chil- dren unless they are being supervised.Keep children under the age of 3 years and pets away from the appliance.4 :selected: Safety en1.4 Safe installationTake note of the safety instructions when installing the appliance.\\nWGB256A90_en-us_washing machine-2.pdf:  6122.2 AQUA-STOP guarantee......... 6223 Consumption values............... 6324 Technical data ......................... 6424.1 Information regarding Free and Open Source Software... 6425 Declaration of Conformity ...... 653     Safetyen1 SafetyObserve the following safety instructions.1.1 General information¡ Read this instruction manual carefully.¡ Keep the instruction manual and the product information safe for future reference or for the next owner.¡ Do not connect the appliance if it has been damaged in transit.1.2 Intended useOnly use this appliance:¡ For washing machine-washable fabrics and hand-washable wool in accordance with the care label.¡ With tap water and commercially available detergents and care products suitable for washing machines.¡ in private households and in enclosed spaces in a domestic en- vironment.¡ up to an altitude of max. 4000 m above sea level.1.3 Restriction on user groupThis appliance may be used by children aged 8 or over and by people who have reduced physical, sensory or mental abilities or inadequate experience and/or \\nSMD6TCX00E_en-us_dishwasher-26.pdf: 27 en DetergentWith powder and liquid detergent the dosage can be individually adjusted to the level of soiling of the table- ware.For better washing and drying results and to avoid damage to the appli- ance, please additionally use Special salt → Page 24 and Rinse aid → Page 26.Combined detergentBesides conventional separate deter- gents, a number of products are available with additional functions. These products contain not only de- tergent but also rinse aid and salt re- placement substances (3in1) and, depending on the combination (4in1, 5in1, ...), additional components such as glass protection or stainless steel cleaner.According to the manufacturers, combined detergents generally only function up to a water hardness of 26 °E. With a water hardness above 26 °E you will need to add special salt and rinse aid. For the best wash- ing and drying results we recom- mend using special salt and rinse aid from a water hardness of 17 °E. If you are using combined detergent, the washing programme is adjusted automatically to ensure the best pos- sible washing and drying result.\"}, {'role': 'user', 'content': 'Ich habe eine Frage. Gibt es Wifi auf my Waschmachine mit produkt nummer WGB256090?'}]\n",
      "\n",
      "Generated answer: Ja, die Waschmaschine mit der Produktnummer WGB256090 verfügt über WLAN-Funktionen. [WGB256A90_en-us_washing machine-2.pdf]\n",
      "\n"
     ]
    }
   ],
   "source": [
    "# STEP 3: Generate a contextual and content specific answer using the search results and chat history\n",
    "\n",
    "# Allow client to replace the entire prompt, or to inject into the exiting prompt using >>>\n",
    "prompt_override = overrides.get(\"prompt_override\")\n",
    "if prompt_override is None:\n",
    "    system_message = system_message_chat_conversation.format(injected_prompt=\"\", follow_up_questions_prompt=follow_up_questions_prompt)\n",
    "elif prompt_override.startswith(\">>>\"):\n",
    "    system_message = system_message_chat_conversation.format(injected_prompt=prompt_override[3:] + \"\\n\", follow_up_questions_prompt=follow_up_questions_prompt)\n",
    "else:\n",
    "    system_message = prompt_override.format(follow_up_questions_prompt=follow_up_questions_prompt)\n",
    "\n",
    "messages = get_messages_from_history(\n",
    "    system_message + \"\\n\\nSources:\\n\" + content,\n",
    "    AZURE_OPENAI_CHATGPT_MODEL,\n",
    "    history,\n",
    "    history[-1][\"user\"],\n",
    "    max_tokens=chatgpt_token_limit)\n",
    "\n",
    "print(\"Message from chat history for answer generation: \" + str(messages) + \"\\n\")\n",
    "\n",
    "chat_completion = await openai.ChatCompletion.acreate(\n",
    "    deployment_id=AZURE_OPENAI_CHATGPT_DEPLOYMENT,\n",
    "    model=AZURE_OPENAI_CHATGPT_MODEL,\n",
    "    messages=messages,\n",
    "    temperature=overrides.get(\"temperature\") or 0.7,\n",
    "    max_tokens=1024,\n",
    "    n=1)\n",
    "\n",
    "print(\"Generated answer: \" + chat_completion.choices[0].message.content + \"\\n\")"
   ]
  },
  {
   "cell_type": "code",
   "execution_count": 94,
   "metadata": {},
   "outputs": [],
   "source": [
    "chat_content = chat_completion.choices[0].message.content\n",
    "msg_to_display = '\\n\\n'.join([str(message) for message in messages])"
   ]
  },
  {
   "cell_type": "code",
   "execution_count": null,
   "metadata": {},
   "outputs": [],
   "source": []
  }
 ],
 "metadata": {
  "kernelspec": {
   "display_name": "Python 3",
   "language": "python",
   "name": "python3"
  },
  "language_info": {
   "codemirror_mode": {
    "name": "ipython",
    "version": 3
   },
   "file_extension": ".py",
   "mimetype": "text/x-python",
   "name": "python",
   "nbconvert_exporter": "python",
   "pygments_lexer": "ipython3",
   "version": "3.10.12"
  },
  "orig_nbformat": 4,
  "vscode": {
   "interpreter": {
    "hash": "c40b9fc8dfc687e53ddb074d322e19207ef9cf3db51c580aef67976913dea803"
   }
  }
 },
 "nbformat": 4,
 "nbformat_minor": 2
}
